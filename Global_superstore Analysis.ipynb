{
 "cells": [
  {
   "cell_type": "code",
   "execution_count": 1,
   "id": "20348c67",
   "metadata": {
    "ExecuteTime": {
     "end_time": "2024-11-16T13:45:17.069387Z",
     "start_time": "2024-11-16T13:45:15.334962Z"
    }
   },
   "outputs": [],
   "source": [
    "import pandas as pd\n",
    "import matplotlib.pyplot as plt"
   ]
  },
  {
   "cell_type": "markdown",
   "id": "4a70be1d",
   "metadata": {},
   "source": [
    "Column Descriptions:\n",
    "* Row ID: Unique identifier for each row in the dataset.\n",
    "* Order ID:Unique identifier for each order placed.\n",
    "* Order Date: The date when the order was placed.\n",
    "* Ship Date: The date when the order was shipped.\n",
    "* Ship Mode: The mode of shipping selected for the order (e.g., *Standard Class, Second Class, First Class, Same Day).\n",
    "* Customer ID:Unique identifier for each customer.\n",
    "* Customer Name:The full name of the customer who placed the order.\n",
    "* Segment:The market segment to which the customer belongs (e.g., Consumer, Corporate, Home Office).\n",
    "* Postal Code:The postal code for the customer’s location. Note that this column has a significant number of missing values.\n",
    "* City: The city where the customer is located.\n",
    "* State:The state where the customer is located.\n",
    "* Country:The country where the customer is located.\n",
    "* Region:The region within the country where the customer is located (e.g., East, West, Central, South).\n",
    "* Market: The broader market category, possibly indicating global regions\n",
    "* Product ID: Unique identifier for each product.\n",
    "* Category:The high-level category to which the product belongs.\n",
    "* Sub-Category:The sub-category of the product .\n",
    "* Product Name:The name of the product.\n",
    "* Sales: The sales revenue generated from the product.\n",
    "* Quantity:The number of units of the product sold.\n",
    "* Discount: The discount applied to the product, expressed as a decimal (e.g., 0.2 for 20% off).\n",
    "* Profit: The profit made from the sale of the product.\n",
    "* Shipping Cost:The cost of shipping the order.\n",
    "* Order Priority: The priority level of the order (e.g., Low, Medium, High, Critical)."
   ]
  },
  {
   "cell_type": "code",
   "execution_count": 2,
   "id": "44573747",
   "metadata": {
    "ExecuteTime": {
     "end_time": "2024-11-16T13:45:34.616167Z",
     "start_time": "2024-11-16T13:45:17.071716Z"
    }
   },
   "outputs": [
    {
     "data": {
      "text/html": [
       "<div>\n",
       "<style scoped>\n",
       "    .dataframe tbody tr th:only-of-type {\n",
       "        vertical-align: middle;\n",
       "    }\n",
       "\n",
       "    .dataframe tbody tr th {\n",
       "        vertical-align: top;\n",
       "    }\n",
       "\n",
       "    .dataframe thead th {\n",
       "        text-align: right;\n",
       "    }\n",
       "</style>\n",
       "<table border=\"1\" class=\"dataframe\">\n",
       "  <thead>\n",
       "    <tr style=\"text-align: right;\">\n",
       "      <th></th>\n",
       "      <th>Row ID</th>\n",
       "      <th>Order ID</th>\n",
       "      <th>Order Date</th>\n",
       "      <th>Ship Date</th>\n",
       "      <th>Ship Mode</th>\n",
       "      <th>Customer ID</th>\n",
       "      <th>Customer Name</th>\n",
       "      <th>Segment</th>\n",
       "      <th>Postal Code</th>\n",
       "      <th>City</th>\n",
       "      <th>...</th>\n",
       "      <th>Product ID</th>\n",
       "      <th>Category</th>\n",
       "      <th>Sub-Category</th>\n",
       "      <th>Product Name</th>\n",
       "      <th>Sales</th>\n",
       "      <th>Quantity</th>\n",
       "      <th>Discount</th>\n",
       "      <th>Profit</th>\n",
       "      <th>Shipping Cost</th>\n",
       "      <th>Order Priority</th>\n",
       "    </tr>\n",
       "  </thead>\n",
       "  <tbody>\n",
       "    <tr>\n",
       "      <th>0</th>\n",
       "      <td>40098</td>\n",
       "      <td>CA-2014-AB10015140-41954</td>\n",
       "      <td>2014-11-11</td>\n",
       "      <td>2014-11-13</td>\n",
       "      <td>First Class</td>\n",
       "      <td>AB-100151402</td>\n",
       "      <td>Aaron Bergman</td>\n",
       "      <td>Consumer</td>\n",
       "      <td>73120.0</td>\n",
       "      <td>Oklahoma City</td>\n",
       "      <td>...</td>\n",
       "      <td>TEC-PH-5816</td>\n",
       "      <td>Technology</td>\n",
       "      <td>Phones</td>\n",
       "      <td>Samsung Convoy 3</td>\n",
       "      <td>221.980</td>\n",
       "      <td>2</td>\n",
       "      <td>0.0</td>\n",
       "      <td>62.1544</td>\n",
       "      <td>40.770</td>\n",
       "      <td>High</td>\n",
       "    </tr>\n",
       "    <tr>\n",
       "      <th>1</th>\n",
       "      <td>26341</td>\n",
       "      <td>IN-2014-JR162107-41675</td>\n",
       "      <td>2014-02-05</td>\n",
       "      <td>2014-02-07</td>\n",
       "      <td>Second Class</td>\n",
       "      <td>JR-162107</td>\n",
       "      <td>Justin Ritter</td>\n",
       "      <td>Corporate</td>\n",
       "      <td>NaN</td>\n",
       "      <td>Wollongong</td>\n",
       "      <td>...</td>\n",
       "      <td>FUR-CH-5379</td>\n",
       "      <td>Furniture</td>\n",
       "      <td>Chairs</td>\n",
       "      <td>Novimex Executive Leather Armchair, Black</td>\n",
       "      <td>3709.395</td>\n",
       "      <td>9</td>\n",
       "      <td>0.1</td>\n",
       "      <td>-288.7650</td>\n",
       "      <td>923.630</td>\n",
       "      <td>Critical</td>\n",
       "    </tr>\n",
       "    <tr>\n",
       "      <th>2</th>\n",
       "      <td>25330</td>\n",
       "      <td>IN-2014-CR127307-41929</td>\n",
       "      <td>2014-10-17</td>\n",
       "      <td>2014-10-18</td>\n",
       "      <td>First Class</td>\n",
       "      <td>CR-127307</td>\n",
       "      <td>Craig Reiter</td>\n",
       "      <td>Consumer</td>\n",
       "      <td>NaN</td>\n",
       "      <td>Brisbane</td>\n",
       "      <td>...</td>\n",
       "      <td>TEC-PH-5356</td>\n",
       "      <td>Technology</td>\n",
       "      <td>Phones</td>\n",
       "      <td>Nokia Smart Phone, with Caller ID</td>\n",
       "      <td>5175.171</td>\n",
       "      <td>9</td>\n",
       "      <td>0.1</td>\n",
       "      <td>919.9710</td>\n",
       "      <td>915.490</td>\n",
       "      <td>Medium</td>\n",
       "    </tr>\n",
       "    <tr>\n",
       "      <th>3</th>\n",
       "      <td>13524</td>\n",
       "      <td>ES-2014-KM1637548-41667</td>\n",
       "      <td>2014-01-28</td>\n",
       "      <td>2014-01-30</td>\n",
       "      <td>First Class</td>\n",
       "      <td>KM-1637548</td>\n",
       "      <td>Katherine Murray</td>\n",
       "      <td>Home Office</td>\n",
       "      <td>NaN</td>\n",
       "      <td>Berlin</td>\n",
       "      <td>...</td>\n",
       "      <td>TEC-PH-5267</td>\n",
       "      <td>Technology</td>\n",
       "      <td>Phones</td>\n",
       "      <td>Motorola Smart Phone, Cordless</td>\n",
       "      <td>2892.510</td>\n",
       "      <td>5</td>\n",
       "      <td>0.1</td>\n",
       "      <td>-96.5400</td>\n",
       "      <td>910.160</td>\n",
       "      <td>Medium</td>\n",
       "    </tr>\n",
       "    <tr>\n",
       "      <th>4</th>\n",
       "      <td>47221</td>\n",
       "      <td>SG-2014-RH9495111-41948</td>\n",
       "      <td>2014-11-05</td>\n",
       "      <td>2014-11-06</td>\n",
       "      <td>Same Day</td>\n",
       "      <td>RH-9495111</td>\n",
       "      <td>Rick Hansen</td>\n",
       "      <td>Consumer</td>\n",
       "      <td>NaN</td>\n",
       "      <td>Dakar</td>\n",
       "      <td>...</td>\n",
       "      <td>TEC-CO-6011</td>\n",
       "      <td>Technology</td>\n",
       "      <td>Copiers</td>\n",
       "      <td>Sharp Wireless Fax, High-Speed</td>\n",
       "      <td>2832.960</td>\n",
       "      <td>8</td>\n",
       "      <td>0.0</td>\n",
       "      <td>311.5200</td>\n",
       "      <td>903.040</td>\n",
       "      <td>Critical</td>\n",
       "    </tr>\n",
       "    <tr>\n",
       "      <th>...</th>\n",
       "      <td>...</td>\n",
       "      <td>...</td>\n",
       "      <td>...</td>\n",
       "      <td>...</td>\n",
       "      <td>...</td>\n",
       "      <td>...</td>\n",
       "      <td>...</td>\n",
       "      <td>...</td>\n",
       "      <td>...</td>\n",
       "      <td>...</td>\n",
       "      <td>...</td>\n",
       "      <td>...</td>\n",
       "      <td>...</td>\n",
       "      <td>...</td>\n",
       "      <td>...</td>\n",
       "      <td>...</td>\n",
       "      <td>...</td>\n",
       "      <td>...</td>\n",
       "      <td>...</td>\n",
       "      <td>...</td>\n",
       "      <td>...</td>\n",
       "    </tr>\n",
       "    <tr>\n",
       "      <th>51285</th>\n",
       "      <td>29002</td>\n",
       "      <td>IN-2015-KE1642066-42174</td>\n",
       "      <td>2015-06-19</td>\n",
       "      <td>2015-06-19</td>\n",
       "      <td>Same Day</td>\n",
       "      <td>KE-1642066</td>\n",
       "      <td>Katrina Edelman</td>\n",
       "      <td>Corporate</td>\n",
       "      <td>NaN</td>\n",
       "      <td>Kure</td>\n",
       "      <td>...</td>\n",
       "      <td>OFF-FA-3072</td>\n",
       "      <td>Office Supplies</td>\n",
       "      <td>Fasteners</td>\n",
       "      <td>Advantus Thumb Tacks, 12 Pack</td>\n",
       "      <td>65.100</td>\n",
       "      <td>5</td>\n",
       "      <td>0.0</td>\n",
       "      <td>4.5000</td>\n",
       "      <td>1.010</td>\n",
       "      <td>Medium</td>\n",
       "    </tr>\n",
       "    <tr>\n",
       "      <th>51286</th>\n",
       "      <td>34337</td>\n",
       "      <td>US-2014-ZD21925140-41765</td>\n",
       "      <td>2014-05-06</td>\n",
       "      <td>2014-05-10</td>\n",
       "      <td>Standard Class</td>\n",
       "      <td>ZD-219251408</td>\n",
       "      <td>Zuschuss Donatelli</td>\n",
       "      <td>Consumer</td>\n",
       "      <td>37421.0</td>\n",
       "      <td>Chattanooga</td>\n",
       "      <td>...</td>\n",
       "      <td>FUR-FU-4070</td>\n",
       "      <td>Furniture</td>\n",
       "      <td>Furnishings</td>\n",
       "      <td>Eldon Image Series Desk Accessories, Burgundy</td>\n",
       "      <td>16.720</td>\n",
       "      <td>5</td>\n",
       "      <td>0.2</td>\n",
       "      <td>3.3440</td>\n",
       "      <td>1.930</td>\n",
       "      <td>High</td>\n",
       "    </tr>\n",
       "    <tr>\n",
       "      <th>51287</th>\n",
       "      <td>31315</td>\n",
       "      <td>CA-2012-ZD21925140-41147</td>\n",
       "      <td>2012-08-26</td>\n",
       "      <td>2012-08-31</td>\n",
       "      <td>Second Class</td>\n",
       "      <td>ZD-219251404</td>\n",
       "      <td>Zuschuss Donatelli</td>\n",
       "      <td>Consumer</td>\n",
       "      <td>94109.0</td>\n",
       "      <td>San Francisco</td>\n",
       "      <td>...</td>\n",
       "      <td>OFF-AR-5321</td>\n",
       "      <td>Office Supplies</td>\n",
       "      <td>Art</td>\n",
       "      <td>Newell 341</td>\n",
       "      <td>8.560</td>\n",
       "      <td>2</td>\n",
       "      <td>0.0</td>\n",
       "      <td>2.4824</td>\n",
       "      <td>1.580</td>\n",
       "      <td>High</td>\n",
       "    </tr>\n",
       "    <tr>\n",
       "      <th>51288</th>\n",
       "      <td>9596</td>\n",
       "      <td>MX-2013-RB1979518-41322</td>\n",
       "      <td>2013-02-17</td>\n",
       "      <td>2013-02-21</td>\n",
       "      <td>Standard Class</td>\n",
       "      <td>RB-1979518</td>\n",
       "      <td>Ross Baird</td>\n",
       "      <td>Home Office</td>\n",
       "      <td>NaN</td>\n",
       "      <td>Valinhos</td>\n",
       "      <td>...</td>\n",
       "      <td>OFF-BI-2919</td>\n",
       "      <td>Office Supplies</td>\n",
       "      <td>Binders</td>\n",
       "      <td>Acco Index Tab, Economy</td>\n",
       "      <td>13.440</td>\n",
       "      <td>2</td>\n",
       "      <td>0.0</td>\n",
       "      <td>2.4000</td>\n",
       "      <td>1.003</td>\n",
       "      <td>Medium</td>\n",
       "    </tr>\n",
       "    <tr>\n",
       "      <th>51289</th>\n",
       "      <td>6147</td>\n",
       "      <td>MX-2013-MC1810093-41416</td>\n",
       "      <td>2013-05-22</td>\n",
       "      <td>2013-05-26</td>\n",
       "      <td>Second Class</td>\n",
       "      <td>MC-1810093</td>\n",
       "      <td>Mick Crebagga</td>\n",
       "      <td>Consumer</td>\n",
       "      <td>NaN</td>\n",
       "      <td>Tipitapa</td>\n",
       "      <td>...</td>\n",
       "      <td>OFF-PA-3990</td>\n",
       "      <td>Office Supplies</td>\n",
       "      <td>Paper</td>\n",
       "      <td>Eaton Computer Printout Paper, 8.5 x 11</td>\n",
       "      <td>61.380</td>\n",
       "      <td>3</td>\n",
       "      <td>0.0</td>\n",
       "      <td>1.8000</td>\n",
       "      <td>1.002</td>\n",
       "      <td>High</td>\n",
       "    </tr>\n",
       "  </tbody>\n",
       "</table>\n",
       "<p>51290 rows × 24 columns</p>\n",
       "</div>"
      ],
      "text/plain": [
       "       Row ID                  Order ID Order Date  Ship Date       Ship Mode  \\\n",
       "0       40098  CA-2014-AB10015140-41954 2014-11-11 2014-11-13     First Class   \n",
       "1       26341    IN-2014-JR162107-41675 2014-02-05 2014-02-07    Second Class   \n",
       "2       25330    IN-2014-CR127307-41929 2014-10-17 2014-10-18     First Class   \n",
       "3       13524   ES-2014-KM1637548-41667 2014-01-28 2014-01-30     First Class   \n",
       "4       47221   SG-2014-RH9495111-41948 2014-11-05 2014-11-06        Same Day   \n",
       "...       ...                       ...        ...        ...             ...   \n",
       "51285   29002   IN-2015-KE1642066-42174 2015-06-19 2015-06-19        Same Day   \n",
       "51286   34337  US-2014-ZD21925140-41765 2014-05-06 2014-05-10  Standard Class   \n",
       "51287   31315  CA-2012-ZD21925140-41147 2012-08-26 2012-08-31    Second Class   \n",
       "51288    9596   MX-2013-RB1979518-41322 2013-02-17 2013-02-21  Standard Class   \n",
       "51289    6147   MX-2013-MC1810093-41416 2013-05-22 2013-05-26    Second Class   \n",
       "\n",
       "        Customer ID       Customer Name      Segment  Postal Code  \\\n",
       "0      AB-100151402       Aaron Bergman     Consumer      73120.0   \n",
       "1         JR-162107       Justin Ritter    Corporate          NaN   \n",
       "2         CR-127307        Craig Reiter     Consumer          NaN   \n",
       "3        KM-1637548    Katherine Murray  Home Office          NaN   \n",
       "4        RH-9495111         Rick Hansen     Consumer          NaN   \n",
       "...             ...                 ...          ...          ...   \n",
       "51285    KE-1642066     Katrina Edelman    Corporate          NaN   \n",
       "51286  ZD-219251408  Zuschuss Donatelli     Consumer      37421.0   \n",
       "51287  ZD-219251404  Zuschuss Donatelli     Consumer      94109.0   \n",
       "51288    RB-1979518          Ross Baird  Home Office          NaN   \n",
       "51289    MC-1810093       Mick Crebagga     Consumer          NaN   \n",
       "\n",
       "                City  ...   Product ID         Category Sub-Category  \\\n",
       "0      Oklahoma City  ...  TEC-PH-5816       Technology       Phones   \n",
       "1         Wollongong  ...  FUR-CH-5379        Furniture       Chairs   \n",
       "2           Brisbane  ...  TEC-PH-5356       Technology       Phones   \n",
       "3             Berlin  ...  TEC-PH-5267       Technology       Phones   \n",
       "4              Dakar  ...  TEC-CO-6011       Technology      Copiers   \n",
       "...              ...  ...          ...              ...          ...   \n",
       "51285           Kure  ...  OFF-FA-3072  Office Supplies    Fasteners   \n",
       "51286    Chattanooga  ...  FUR-FU-4070        Furniture  Furnishings   \n",
       "51287  San Francisco  ...  OFF-AR-5321  Office Supplies          Art   \n",
       "51288       Valinhos  ...  OFF-BI-2919  Office Supplies      Binders   \n",
       "51289       Tipitapa  ...  OFF-PA-3990  Office Supplies        Paper   \n",
       "\n",
       "                                        Product Name     Sales Quantity  \\\n",
       "0                                   Samsung Convoy 3   221.980        2   \n",
       "1          Novimex Executive Leather Armchair, Black  3709.395        9   \n",
       "2                  Nokia Smart Phone, with Caller ID  5175.171        9   \n",
       "3                     Motorola Smart Phone, Cordless  2892.510        5   \n",
       "4                     Sharp Wireless Fax, High-Speed  2832.960        8   \n",
       "...                                              ...       ...      ...   \n",
       "51285                  Advantus Thumb Tacks, 12 Pack    65.100        5   \n",
       "51286  Eldon Image Series Desk Accessories, Burgundy    16.720        5   \n",
       "51287                                     Newell 341     8.560        2   \n",
       "51288                        Acco Index Tab, Economy    13.440        2   \n",
       "51289        Eaton Computer Printout Paper, 8.5 x 11    61.380        3   \n",
       "\n",
       "      Discount    Profit  Shipping Cost  Order Priority  \n",
       "0          0.0   62.1544         40.770            High  \n",
       "1          0.1 -288.7650        923.630        Critical  \n",
       "2          0.1  919.9710        915.490          Medium  \n",
       "3          0.1  -96.5400        910.160          Medium  \n",
       "4          0.0  311.5200        903.040        Critical  \n",
       "...        ...       ...            ...             ...  \n",
       "51285      0.0    4.5000          1.010          Medium  \n",
       "51286      0.2    3.3440          1.930            High  \n",
       "51287      0.0    2.4824          1.580            High  \n",
       "51288      0.0    2.4000          1.003          Medium  \n",
       "51289      0.0    1.8000          1.002            High  \n",
       "\n",
       "[51290 rows x 24 columns]"
      ]
     },
     "execution_count": 2,
     "metadata": {},
     "output_type": "execute_result"
    }
   ],
   "source": [
    "data=pd.read_excel('global_superstore.xlsx')\n",
    "data"
   ]
  },
  {
   "cell_type": "code",
   "execution_count": 3,
   "id": "ceaafde5",
   "metadata": {
    "ExecuteTime": {
     "end_time": "2024-11-16T13:45:34.681977Z",
     "start_time": "2024-11-16T13:45:34.617679Z"
    }
   },
   "outputs": [
    {
     "name": "stdout",
     "output_type": "stream",
     "text": [
      "<class 'pandas.core.frame.DataFrame'>\n",
      "RangeIndex: 51290 entries, 0 to 51289\n",
      "Data columns (total 24 columns):\n",
      " #   Column          Non-Null Count  Dtype         \n",
      "---  ------          --------------  -----         \n",
      " 0   Row ID          51290 non-null  int64         \n",
      " 1   Order ID        51290 non-null  object        \n",
      " 2   Order Date      51290 non-null  datetime64[ns]\n",
      " 3   Ship Date       51290 non-null  datetime64[ns]\n",
      " 4   Ship Mode       51290 non-null  object        \n",
      " 5   Customer ID     51290 non-null  object        \n",
      " 6   Customer Name   51290 non-null  object        \n",
      " 7   Segment         51290 non-null  object        \n",
      " 8   Postal Code     9994 non-null   float64       \n",
      " 9   City            51290 non-null  object        \n",
      " 10  State           51290 non-null  object        \n",
      " 11  Country         51290 non-null  object        \n",
      " 12  Region          51290 non-null  object        \n",
      " 13  Market          51290 non-null  object        \n",
      " 14  Product ID      51290 non-null  object        \n",
      " 15  Category        51290 non-null  object        \n",
      " 16  Sub-Category    51290 non-null  object        \n",
      " 17  Product Name    51290 non-null  object        \n",
      " 18  Sales           51290 non-null  float64       \n",
      " 19  Quantity        51290 non-null  int64         \n",
      " 20  Discount        51290 non-null  float64       \n",
      " 21  Profit          51290 non-null  float64       \n",
      " 22  Shipping Cost   51290 non-null  float64       \n",
      " 23  Order Priority  51290 non-null  object        \n",
      "dtypes: datetime64[ns](2), float64(5), int64(2), object(15)\n",
      "memory usage: 9.4+ MB\n"
     ]
    }
   ],
   "source": [
    "data.info()"
   ]
  },
  {
   "cell_type": "code",
   "execution_count": 4,
   "id": "f6b4a55d",
   "metadata": {
    "ExecuteTime": {
     "end_time": "2024-11-16T13:45:35.806731Z",
     "start_time": "2024-11-16T13:45:34.684347Z"
    }
   },
   "outputs": [
    {
     "ename": "TypeError",
     "evalue": "'numpy.dtype[object_]' object is not callable",
     "output_type": "error",
     "traceback": [
      "\u001b[1;31m---------------------------------------------------------------------------\u001b[0m",
      "\u001b[1;31mTypeError\u001b[0m                                 Traceback (most recent call last)",
      "Cell \u001b[1;32mIn[4], line 2\u001b[0m\n\u001b[0;32m      1\u001b[0m data[\u001b[38;5;124m'\u001b[39m\u001b[38;5;124mPostal Code\u001b[39m\u001b[38;5;124m'\u001b[39m]\u001b[38;5;241m=\u001b[39mdata[\u001b[38;5;124m'\u001b[39m\u001b[38;5;124mPostal Code\u001b[39m\u001b[38;5;124m'\u001b[39m]\u001b[38;5;241m.\u001b[39mastype(\u001b[38;5;28mstr\u001b[39m)\n\u001b[1;32m----> 2\u001b[0m data[\u001b[38;5;124m'\u001b[39m\u001b[38;5;124mPostal Code\u001b[39m\u001b[38;5;124m'\u001b[39m]\u001b[38;5;241m.\u001b[39mdtype()\n",
      "\u001b[1;31mTypeError\u001b[0m: 'numpy.dtype[object_]' object is not callable"
     ]
    }
   ],
   "source": [
    "data['Postal Code']=data['Postal Code'].astype(str)\n",
    "data['Postal Code'].dtype()"
   ]
  },
  {
   "cell_type": "code",
   "execution_count": 5,
   "id": "5c2a98df",
   "metadata": {
    "ExecuteTime": {
     "end_time": "2024-11-16T13:45:54.235532Z",
     "start_time": "2024-11-16T13:45:54.158578Z"
    }
   },
   "outputs": [
    {
     "data": {
      "text/html": [
       "<div>\n",
       "<style scoped>\n",
       "    .dataframe tbody tr th:only-of-type {\n",
       "        vertical-align: middle;\n",
       "    }\n",
       "\n",
       "    .dataframe tbody tr th {\n",
       "        vertical-align: top;\n",
       "    }\n",
       "\n",
       "    .dataframe thead th {\n",
       "        text-align: right;\n",
       "    }\n",
       "</style>\n",
       "<table border=\"1\" class=\"dataframe\">\n",
       "  <thead>\n",
       "    <tr style=\"text-align: right;\">\n",
       "      <th></th>\n",
       "      <th>Row ID</th>\n",
       "      <th>Order ID</th>\n",
       "      <th>Order Date</th>\n",
       "      <th>Ship Date</th>\n",
       "      <th>Ship Mode</th>\n",
       "      <th>Customer ID</th>\n",
       "      <th>Customer Name</th>\n",
       "      <th>Segment</th>\n",
       "      <th>Postal Code</th>\n",
       "      <th>City</th>\n",
       "      <th>...</th>\n",
       "      <th>Product ID</th>\n",
       "      <th>Category</th>\n",
       "      <th>Sub-Category</th>\n",
       "      <th>Product Name</th>\n",
       "      <th>Sales</th>\n",
       "      <th>Quantity</th>\n",
       "      <th>Discount</th>\n",
       "      <th>Profit</th>\n",
       "      <th>Shipping Cost</th>\n",
       "      <th>Order Priority</th>\n",
       "    </tr>\n",
       "  </thead>\n",
       "  <tbody>\n",
       "    <tr>\n",
       "      <th>0</th>\n",
       "      <td>40098</td>\n",
       "      <td>CA-2014-AB10015140-41954</td>\n",
       "      <td>2014-11-11</td>\n",
       "      <td>2014-11-13</td>\n",
       "      <td>First Class</td>\n",
       "      <td>AB-100151402</td>\n",
       "      <td>Aaron Bergman</td>\n",
       "      <td>Consumer</td>\n",
       "      <td>73120.0</td>\n",
       "      <td>Oklahoma City</td>\n",
       "      <td>...</td>\n",
       "      <td>TEC-PH-5816</td>\n",
       "      <td>Technology</td>\n",
       "      <td>Phones</td>\n",
       "      <td>Samsung Convoy 3</td>\n",
       "      <td>221.980</td>\n",
       "      <td>2</td>\n",
       "      <td>0.0</td>\n",
       "      <td>62.1544</td>\n",
       "      <td>40.770</td>\n",
       "      <td>High</td>\n",
       "    </tr>\n",
       "    <tr>\n",
       "      <th>1</th>\n",
       "      <td>26341</td>\n",
       "      <td>IN-2014-JR162107-41675</td>\n",
       "      <td>2014-02-05</td>\n",
       "      <td>2014-02-07</td>\n",
       "      <td>Second Class</td>\n",
       "      <td>JR-162107</td>\n",
       "      <td>Justin Ritter</td>\n",
       "      <td>Corporate</td>\n",
       "      <td>nan</td>\n",
       "      <td>Wollongong</td>\n",
       "      <td>...</td>\n",
       "      <td>FUR-CH-5379</td>\n",
       "      <td>Furniture</td>\n",
       "      <td>Chairs</td>\n",
       "      <td>Novimex Executive Leather Armchair, Black</td>\n",
       "      <td>3709.395</td>\n",
       "      <td>9</td>\n",
       "      <td>0.1</td>\n",
       "      <td>-288.7650</td>\n",
       "      <td>923.630</td>\n",
       "      <td>Critical</td>\n",
       "    </tr>\n",
       "    <tr>\n",
       "      <th>2</th>\n",
       "      <td>25330</td>\n",
       "      <td>IN-2014-CR127307-41929</td>\n",
       "      <td>2014-10-17</td>\n",
       "      <td>2014-10-18</td>\n",
       "      <td>First Class</td>\n",
       "      <td>CR-127307</td>\n",
       "      <td>Craig Reiter</td>\n",
       "      <td>Consumer</td>\n",
       "      <td>nan</td>\n",
       "      <td>Brisbane</td>\n",
       "      <td>...</td>\n",
       "      <td>TEC-PH-5356</td>\n",
       "      <td>Technology</td>\n",
       "      <td>Phones</td>\n",
       "      <td>Nokia Smart Phone, with Caller ID</td>\n",
       "      <td>5175.171</td>\n",
       "      <td>9</td>\n",
       "      <td>0.1</td>\n",
       "      <td>919.9710</td>\n",
       "      <td>915.490</td>\n",
       "      <td>Medium</td>\n",
       "    </tr>\n",
       "    <tr>\n",
       "      <th>3</th>\n",
       "      <td>13524</td>\n",
       "      <td>ES-2014-KM1637548-41667</td>\n",
       "      <td>2014-01-28</td>\n",
       "      <td>2014-01-30</td>\n",
       "      <td>First Class</td>\n",
       "      <td>KM-1637548</td>\n",
       "      <td>Katherine Murray</td>\n",
       "      <td>Home Office</td>\n",
       "      <td>nan</td>\n",
       "      <td>Berlin</td>\n",
       "      <td>...</td>\n",
       "      <td>TEC-PH-5267</td>\n",
       "      <td>Technology</td>\n",
       "      <td>Phones</td>\n",
       "      <td>Motorola Smart Phone, Cordless</td>\n",
       "      <td>2892.510</td>\n",
       "      <td>5</td>\n",
       "      <td>0.1</td>\n",
       "      <td>-96.5400</td>\n",
       "      <td>910.160</td>\n",
       "      <td>Medium</td>\n",
       "    </tr>\n",
       "    <tr>\n",
       "      <th>4</th>\n",
       "      <td>47221</td>\n",
       "      <td>SG-2014-RH9495111-41948</td>\n",
       "      <td>2014-11-05</td>\n",
       "      <td>2014-11-06</td>\n",
       "      <td>Same Day</td>\n",
       "      <td>RH-9495111</td>\n",
       "      <td>Rick Hansen</td>\n",
       "      <td>Consumer</td>\n",
       "      <td>nan</td>\n",
       "      <td>Dakar</td>\n",
       "      <td>...</td>\n",
       "      <td>TEC-CO-6011</td>\n",
       "      <td>Technology</td>\n",
       "      <td>Copiers</td>\n",
       "      <td>Sharp Wireless Fax, High-Speed</td>\n",
       "      <td>2832.960</td>\n",
       "      <td>8</td>\n",
       "      <td>0.0</td>\n",
       "      <td>311.5200</td>\n",
       "      <td>903.040</td>\n",
       "      <td>Critical</td>\n",
       "    </tr>\n",
       "    <tr>\n",
       "      <th>...</th>\n",
       "      <td>...</td>\n",
       "      <td>...</td>\n",
       "      <td>...</td>\n",
       "      <td>...</td>\n",
       "      <td>...</td>\n",
       "      <td>...</td>\n",
       "      <td>...</td>\n",
       "      <td>...</td>\n",
       "      <td>...</td>\n",
       "      <td>...</td>\n",
       "      <td>...</td>\n",
       "      <td>...</td>\n",
       "      <td>...</td>\n",
       "      <td>...</td>\n",
       "      <td>...</td>\n",
       "      <td>...</td>\n",
       "      <td>...</td>\n",
       "      <td>...</td>\n",
       "      <td>...</td>\n",
       "      <td>...</td>\n",
       "      <td>...</td>\n",
       "    </tr>\n",
       "    <tr>\n",
       "      <th>51285</th>\n",
       "      <td>29002</td>\n",
       "      <td>IN-2015-KE1642066-42174</td>\n",
       "      <td>2015-06-19</td>\n",
       "      <td>2015-06-19</td>\n",
       "      <td>Same Day</td>\n",
       "      <td>KE-1642066</td>\n",
       "      <td>Katrina Edelman</td>\n",
       "      <td>Corporate</td>\n",
       "      <td>nan</td>\n",
       "      <td>Kure</td>\n",
       "      <td>...</td>\n",
       "      <td>OFF-FA-3072</td>\n",
       "      <td>Office Supplies</td>\n",
       "      <td>Fasteners</td>\n",
       "      <td>Advantus Thumb Tacks, 12 Pack</td>\n",
       "      <td>65.100</td>\n",
       "      <td>5</td>\n",
       "      <td>0.0</td>\n",
       "      <td>4.5000</td>\n",
       "      <td>1.010</td>\n",
       "      <td>Medium</td>\n",
       "    </tr>\n",
       "    <tr>\n",
       "      <th>51286</th>\n",
       "      <td>34337</td>\n",
       "      <td>US-2014-ZD21925140-41765</td>\n",
       "      <td>2014-05-06</td>\n",
       "      <td>2014-05-10</td>\n",
       "      <td>Standard Class</td>\n",
       "      <td>ZD-219251408</td>\n",
       "      <td>Zuschuss Donatelli</td>\n",
       "      <td>Consumer</td>\n",
       "      <td>37421.0</td>\n",
       "      <td>Chattanooga</td>\n",
       "      <td>...</td>\n",
       "      <td>FUR-FU-4070</td>\n",
       "      <td>Furniture</td>\n",
       "      <td>Furnishings</td>\n",
       "      <td>Eldon Image Series Desk Accessories, Burgundy</td>\n",
       "      <td>16.720</td>\n",
       "      <td>5</td>\n",
       "      <td>0.2</td>\n",
       "      <td>3.3440</td>\n",
       "      <td>1.930</td>\n",
       "      <td>High</td>\n",
       "    </tr>\n",
       "    <tr>\n",
       "      <th>51287</th>\n",
       "      <td>31315</td>\n",
       "      <td>CA-2012-ZD21925140-41147</td>\n",
       "      <td>2012-08-26</td>\n",
       "      <td>2012-08-31</td>\n",
       "      <td>Second Class</td>\n",
       "      <td>ZD-219251404</td>\n",
       "      <td>Zuschuss Donatelli</td>\n",
       "      <td>Consumer</td>\n",
       "      <td>94109.0</td>\n",
       "      <td>San Francisco</td>\n",
       "      <td>...</td>\n",
       "      <td>OFF-AR-5321</td>\n",
       "      <td>Office Supplies</td>\n",
       "      <td>Art</td>\n",
       "      <td>Newell 341</td>\n",
       "      <td>8.560</td>\n",
       "      <td>2</td>\n",
       "      <td>0.0</td>\n",
       "      <td>2.4824</td>\n",
       "      <td>1.580</td>\n",
       "      <td>High</td>\n",
       "    </tr>\n",
       "    <tr>\n",
       "      <th>51288</th>\n",
       "      <td>9596</td>\n",
       "      <td>MX-2013-RB1979518-41322</td>\n",
       "      <td>2013-02-17</td>\n",
       "      <td>2013-02-21</td>\n",
       "      <td>Standard Class</td>\n",
       "      <td>RB-1979518</td>\n",
       "      <td>Ross Baird</td>\n",
       "      <td>Home Office</td>\n",
       "      <td>nan</td>\n",
       "      <td>Valinhos</td>\n",
       "      <td>...</td>\n",
       "      <td>OFF-BI-2919</td>\n",
       "      <td>Office Supplies</td>\n",
       "      <td>Binders</td>\n",
       "      <td>Acco Index Tab, Economy</td>\n",
       "      <td>13.440</td>\n",
       "      <td>2</td>\n",
       "      <td>0.0</td>\n",
       "      <td>2.4000</td>\n",
       "      <td>1.003</td>\n",
       "      <td>Medium</td>\n",
       "    </tr>\n",
       "    <tr>\n",
       "      <th>51289</th>\n",
       "      <td>6147</td>\n",
       "      <td>MX-2013-MC1810093-41416</td>\n",
       "      <td>2013-05-22</td>\n",
       "      <td>2013-05-26</td>\n",
       "      <td>Second Class</td>\n",
       "      <td>MC-1810093</td>\n",
       "      <td>Mick Crebagga</td>\n",
       "      <td>Consumer</td>\n",
       "      <td>nan</td>\n",
       "      <td>Tipitapa</td>\n",
       "      <td>...</td>\n",
       "      <td>OFF-PA-3990</td>\n",
       "      <td>Office Supplies</td>\n",
       "      <td>Paper</td>\n",
       "      <td>Eaton Computer Printout Paper, 8.5 x 11</td>\n",
       "      <td>61.380</td>\n",
       "      <td>3</td>\n",
       "      <td>0.0</td>\n",
       "      <td>1.8000</td>\n",
       "      <td>1.002</td>\n",
       "      <td>High</td>\n",
       "    </tr>\n",
       "  </tbody>\n",
       "</table>\n",
       "<p>51290 rows × 24 columns</p>\n",
       "</div>"
      ],
      "text/plain": [
       "       Row ID                  Order ID Order Date  Ship Date       Ship Mode  \\\n",
       "0       40098  CA-2014-AB10015140-41954 2014-11-11 2014-11-13     First Class   \n",
       "1       26341    IN-2014-JR162107-41675 2014-02-05 2014-02-07    Second Class   \n",
       "2       25330    IN-2014-CR127307-41929 2014-10-17 2014-10-18     First Class   \n",
       "3       13524   ES-2014-KM1637548-41667 2014-01-28 2014-01-30     First Class   \n",
       "4       47221   SG-2014-RH9495111-41948 2014-11-05 2014-11-06        Same Day   \n",
       "...       ...                       ...        ...        ...             ...   \n",
       "51285   29002   IN-2015-KE1642066-42174 2015-06-19 2015-06-19        Same Day   \n",
       "51286   34337  US-2014-ZD21925140-41765 2014-05-06 2014-05-10  Standard Class   \n",
       "51287   31315  CA-2012-ZD21925140-41147 2012-08-26 2012-08-31    Second Class   \n",
       "51288    9596   MX-2013-RB1979518-41322 2013-02-17 2013-02-21  Standard Class   \n",
       "51289    6147   MX-2013-MC1810093-41416 2013-05-22 2013-05-26    Second Class   \n",
       "\n",
       "        Customer ID       Customer Name      Segment Postal Code  \\\n",
       "0      AB-100151402       Aaron Bergman     Consumer     73120.0   \n",
       "1         JR-162107       Justin Ritter    Corporate         nan   \n",
       "2         CR-127307        Craig Reiter     Consumer         nan   \n",
       "3        KM-1637548    Katherine Murray  Home Office         nan   \n",
       "4        RH-9495111         Rick Hansen     Consumer         nan   \n",
       "...             ...                 ...          ...         ...   \n",
       "51285    KE-1642066     Katrina Edelman    Corporate         nan   \n",
       "51286  ZD-219251408  Zuschuss Donatelli     Consumer     37421.0   \n",
       "51287  ZD-219251404  Zuschuss Donatelli     Consumer     94109.0   \n",
       "51288    RB-1979518          Ross Baird  Home Office         nan   \n",
       "51289    MC-1810093       Mick Crebagga     Consumer         nan   \n",
       "\n",
       "                City  ...   Product ID         Category Sub-Category  \\\n",
       "0      Oklahoma City  ...  TEC-PH-5816       Technology       Phones   \n",
       "1         Wollongong  ...  FUR-CH-5379        Furniture       Chairs   \n",
       "2           Brisbane  ...  TEC-PH-5356       Technology       Phones   \n",
       "3             Berlin  ...  TEC-PH-5267       Technology       Phones   \n",
       "4              Dakar  ...  TEC-CO-6011       Technology      Copiers   \n",
       "...              ...  ...          ...              ...          ...   \n",
       "51285           Kure  ...  OFF-FA-3072  Office Supplies    Fasteners   \n",
       "51286    Chattanooga  ...  FUR-FU-4070        Furniture  Furnishings   \n",
       "51287  San Francisco  ...  OFF-AR-5321  Office Supplies          Art   \n",
       "51288       Valinhos  ...  OFF-BI-2919  Office Supplies      Binders   \n",
       "51289       Tipitapa  ...  OFF-PA-3990  Office Supplies        Paper   \n",
       "\n",
       "                                        Product Name     Sales Quantity  \\\n",
       "0                                   Samsung Convoy 3   221.980        2   \n",
       "1          Novimex Executive Leather Armchair, Black  3709.395        9   \n",
       "2                  Nokia Smart Phone, with Caller ID  5175.171        9   \n",
       "3                     Motorola Smart Phone, Cordless  2892.510        5   \n",
       "4                     Sharp Wireless Fax, High-Speed  2832.960        8   \n",
       "...                                              ...       ...      ...   \n",
       "51285                  Advantus Thumb Tacks, 12 Pack    65.100        5   \n",
       "51286  Eldon Image Series Desk Accessories, Burgundy    16.720        5   \n",
       "51287                                     Newell 341     8.560        2   \n",
       "51288                        Acco Index Tab, Economy    13.440        2   \n",
       "51289        Eaton Computer Printout Paper, 8.5 x 11    61.380        3   \n",
       "\n",
       "      Discount    Profit  Shipping Cost  Order Priority  \n",
       "0          0.0   62.1544         40.770            High  \n",
       "1          0.1 -288.7650        923.630        Critical  \n",
       "2          0.1  919.9710        915.490          Medium  \n",
       "3          0.1  -96.5400        910.160          Medium  \n",
       "4          0.0  311.5200        903.040        Critical  \n",
       "...        ...       ...            ...             ...  \n",
       "51285      0.0    4.5000          1.010          Medium  \n",
       "51286      0.2    3.3440          1.930            High  \n",
       "51287      0.0    2.4824          1.580            High  \n",
       "51288      0.0    2.4000          1.003          Medium  \n",
       "51289      0.0    1.8000          1.002            High  \n",
       "\n",
       "[51290 rows x 24 columns]"
      ]
     },
     "execution_count": 5,
     "metadata": {},
     "output_type": "execute_result"
    }
   ],
   "source": [
    "data"
   ]
  },
  {
   "cell_type": "code",
   "execution_count": 6,
   "id": "27a9dca3",
   "metadata": {
    "ExecuteTime": {
     "end_time": "2024-11-16T13:45:55.017026Z",
     "start_time": "2024-11-16T13:45:54.978929Z"
    }
   },
   "outputs": [
    {
     "name": "stdout",
     "output_type": "stream",
     "text": [
      "<class 'pandas.core.frame.DataFrame'>\n",
      "RangeIndex: 51290 entries, 0 to 51289\n",
      "Data columns (total 24 columns):\n",
      " #   Column          Non-Null Count  Dtype         \n",
      "---  ------          --------------  -----         \n",
      " 0   Row ID          51290 non-null  int64         \n",
      " 1   Order ID        51290 non-null  object        \n",
      " 2   Order Date      51290 non-null  datetime64[ns]\n",
      " 3   Ship Date       51290 non-null  datetime64[ns]\n",
      " 4   Ship Mode       51290 non-null  object        \n",
      " 5   Customer ID     51290 non-null  object        \n",
      " 6   Customer Name   51290 non-null  object        \n",
      " 7   Segment         51290 non-null  object        \n",
      " 8   Postal Code     51290 non-null  object        \n",
      " 9   City            51290 non-null  object        \n",
      " 10  State           51290 non-null  object        \n",
      " 11  Country         51290 non-null  object        \n",
      " 12  Region          51290 non-null  object        \n",
      " 13  Market          51290 non-null  object        \n",
      " 14  Product ID      51290 non-null  object        \n",
      " 15  Category        51290 non-null  object        \n",
      " 16  Sub-Category    51290 non-null  object        \n",
      " 17  Product Name    51290 non-null  object        \n",
      " 18  Sales           51290 non-null  float64       \n",
      " 19  Quantity        51290 non-null  int64         \n",
      " 20  Discount        51290 non-null  float64       \n",
      " 21  Profit          51290 non-null  float64       \n",
      " 22  Shipping Cost   51290 non-null  float64       \n",
      " 23  Order Priority  51290 non-null  object        \n",
      "dtypes: datetime64[ns](2), float64(4), int64(2), object(16)\n",
      "memory usage: 9.4+ MB\n"
     ]
    }
   ],
   "source": [
    "data.info()"
   ]
  },
  {
   "cell_type": "code",
   "execution_count": 7,
   "id": "728134f0",
   "metadata": {
    "ExecuteTime": {
     "end_time": "2024-11-16T13:45:55.772595Z",
     "start_time": "2024-11-16T13:45:55.658511Z"
    }
   },
   "outputs": [
    {
     "data": {
      "text/html": [
       "<div>\n",
       "<style scoped>\n",
       "    .dataframe tbody tr th:only-of-type {\n",
       "        vertical-align: middle;\n",
       "    }\n",
       "\n",
       "    .dataframe tbody tr th {\n",
       "        vertical-align: top;\n",
       "    }\n",
       "\n",
       "    .dataframe thead th {\n",
       "        text-align: right;\n",
       "    }\n",
       "</style>\n",
       "<table border=\"1\" class=\"dataframe\">\n",
       "  <thead>\n",
       "    <tr style=\"text-align: right;\">\n",
       "      <th></th>\n",
       "      <th>Row ID</th>\n",
       "      <th>Order Date</th>\n",
       "      <th>Ship Date</th>\n",
       "      <th>Sales</th>\n",
       "      <th>Quantity</th>\n",
       "      <th>Discount</th>\n",
       "      <th>Profit</th>\n",
       "      <th>Shipping Cost</th>\n",
       "    </tr>\n",
       "  </thead>\n",
       "  <tbody>\n",
       "    <tr>\n",
       "      <th>count</th>\n",
       "      <td>51290.00000</td>\n",
       "      <td>51290</td>\n",
       "      <td>51290</td>\n",
       "      <td>51290.000000</td>\n",
       "      <td>51290.000000</td>\n",
       "      <td>51290.000000</td>\n",
       "      <td>51290.000000</td>\n",
       "      <td>51290.000000</td>\n",
       "    </tr>\n",
       "    <tr>\n",
       "      <th>mean</th>\n",
       "      <td>25645.50000</td>\n",
       "      <td>2014-05-11 21:26:49.155780608</td>\n",
       "      <td>2014-05-15 20:42:42.745174528</td>\n",
       "      <td>246.490581</td>\n",
       "      <td>3.476545</td>\n",
       "      <td>0.142908</td>\n",
       "      <td>28.610982</td>\n",
       "      <td>26.478567</td>\n",
       "    </tr>\n",
       "    <tr>\n",
       "      <th>min</th>\n",
       "      <td>1.00000</td>\n",
       "      <td>2012-01-01 00:00:00</td>\n",
       "      <td>2012-01-03 00:00:00</td>\n",
       "      <td>0.444000</td>\n",
       "      <td>1.000000</td>\n",
       "      <td>0.000000</td>\n",
       "      <td>-6599.978000</td>\n",
       "      <td>1.002000</td>\n",
       "    </tr>\n",
       "    <tr>\n",
       "      <th>25%</th>\n",
       "      <td>12823.25000</td>\n",
       "      <td>2013-06-19 00:00:00</td>\n",
       "      <td>2013-06-23 00:00:00</td>\n",
       "      <td>30.758625</td>\n",
       "      <td>2.000000</td>\n",
       "      <td>0.000000</td>\n",
       "      <td>0.000000</td>\n",
       "      <td>2.610000</td>\n",
       "    </tr>\n",
       "    <tr>\n",
       "      <th>50%</th>\n",
       "      <td>25645.50000</td>\n",
       "      <td>2014-07-08 00:00:00</td>\n",
       "      <td>2014-07-12 00:00:00</td>\n",
       "      <td>85.053000</td>\n",
       "      <td>3.000000</td>\n",
       "      <td>0.000000</td>\n",
       "      <td>9.240000</td>\n",
       "      <td>7.790000</td>\n",
       "    </tr>\n",
       "    <tr>\n",
       "      <th>75%</th>\n",
       "      <td>38467.75000</td>\n",
       "      <td>2015-05-22 00:00:00</td>\n",
       "      <td>2015-05-26 00:00:00</td>\n",
       "      <td>251.053200</td>\n",
       "      <td>5.000000</td>\n",
       "      <td>0.200000</td>\n",
       "      <td>36.810000</td>\n",
       "      <td>24.450000</td>\n",
       "    </tr>\n",
       "    <tr>\n",
       "      <th>max</th>\n",
       "      <td>51290.00000</td>\n",
       "      <td>2015-12-31 00:00:00</td>\n",
       "      <td>2016-01-07 00:00:00</td>\n",
       "      <td>22638.480000</td>\n",
       "      <td>14.000000</td>\n",
       "      <td>0.850000</td>\n",
       "      <td>8399.976000</td>\n",
       "      <td>933.570000</td>\n",
       "    </tr>\n",
       "    <tr>\n",
       "      <th>std</th>\n",
       "      <td>14806.29199</td>\n",
       "      <td>NaN</td>\n",
       "      <td>NaN</td>\n",
       "      <td>487.565361</td>\n",
       "      <td>2.278766</td>\n",
       "      <td>0.212280</td>\n",
       "      <td>174.340972</td>\n",
       "      <td>57.251373</td>\n",
       "    </tr>\n",
       "  </tbody>\n",
       "</table>\n",
       "</div>"
      ],
      "text/plain": [
       "            Row ID                     Order Date  \\\n",
       "count  51290.00000                          51290   \n",
       "mean   25645.50000  2014-05-11 21:26:49.155780608   \n",
       "min        1.00000            2012-01-01 00:00:00   \n",
       "25%    12823.25000            2013-06-19 00:00:00   \n",
       "50%    25645.50000            2014-07-08 00:00:00   \n",
       "75%    38467.75000            2015-05-22 00:00:00   \n",
       "max    51290.00000            2015-12-31 00:00:00   \n",
       "std    14806.29199                            NaN   \n",
       "\n",
       "                           Ship Date         Sales      Quantity  \\\n",
       "count                          51290  51290.000000  51290.000000   \n",
       "mean   2014-05-15 20:42:42.745174528    246.490581      3.476545   \n",
       "min              2012-01-03 00:00:00      0.444000      1.000000   \n",
       "25%              2013-06-23 00:00:00     30.758625      2.000000   \n",
       "50%              2014-07-12 00:00:00     85.053000      3.000000   \n",
       "75%              2015-05-26 00:00:00    251.053200      5.000000   \n",
       "max              2016-01-07 00:00:00  22638.480000     14.000000   \n",
       "std                              NaN    487.565361      2.278766   \n",
       "\n",
       "           Discount        Profit  Shipping Cost  \n",
       "count  51290.000000  51290.000000   51290.000000  \n",
       "mean       0.142908     28.610982      26.478567  \n",
       "min        0.000000  -6599.978000       1.002000  \n",
       "25%        0.000000      0.000000       2.610000  \n",
       "50%        0.000000      9.240000       7.790000  \n",
       "75%        0.200000     36.810000      24.450000  \n",
       "max        0.850000   8399.976000     933.570000  \n",
       "std        0.212280    174.340972      57.251373  "
      ]
     },
     "execution_count": 7,
     "metadata": {},
     "output_type": "execute_result"
    }
   ],
   "source": [
    "data.describe()"
   ]
  },
  {
   "cell_type": "code",
   "execution_count": 8,
   "id": "8b101eba",
   "metadata": {
    "ExecuteTime": {
     "end_time": "2024-11-16T13:45:56.360559Z",
     "start_time": "2024-11-16T13:45:56.355743Z"
    }
   },
   "outputs": [
    {
     "data": {
      "text/plain": [
       "Index(['Row ID', 'Order ID', 'Order Date', 'Ship Date', 'Ship Mode',\n",
       "       'Customer ID', 'Customer Name', 'Segment', 'Postal Code', 'City',\n",
       "       'State', 'Country', 'Region', 'Market', 'Product ID', 'Category',\n",
       "       'Sub-Category', 'Product Name', 'Sales', 'Quantity', 'Discount',\n",
       "       'Profit', 'Shipping Cost', 'Order Priority'],\n",
       "      dtype='object')"
      ]
     },
     "execution_count": 8,
     "metadata": {},
     "output_type": "execute_result"
    }
   ],
   "source": [
    "data.columns"
   ]
  },
  {
   "cell_type": "markdown",
   "id": "fd7193e8",
   "metadata": {},
   "source": [
    "## Data Exploration And Visualisation"
   ]
  },
  {
   "cell_type": "markdown",
   "id": "7a0c6d36",
   "metadata": {},
   "source": [
    "#### Top 5 sales with  customer name "
   ]
  },
  {
   "cell_type": "code",
   "execution_count": 12,
   "id": "7ba03caa",
   "metadata": {
    "ExecuteTime": {
     "end_time": "2024-11-16T13:46:37.323058Z",
     "start_time": "2024-11-16T13:46:37.306004Z"
    }
   },
   "outputs": [
    {
     "data": {
      "text/html": [
       "<div>\n",
       "<style scoped>\n",
       "    .dataframe tbody tr th:only-of-type {\n",
       "        vertical-align: middle;\n",
       "    }\n",
       "\n",
       "    .dataframe tbody tr th {\n",
       "        vertical-align: top;\n",
       "    }\n",
       "\n",
       "    .dataframe thead th {\n",
       "        text-align: right;\n",
       "    }\n",
       "</style>\n",
       "<table border=\"1\" class=\"dataframe\">\n",
       "  <thead>\n",
       "    <tr style=\"text-align: right;\">\n",
       "      <th></th>\n",
       "      <th>Customer Name</th>\n",
       "      <th>Sales</th>\n",
       "    </tr>\n",
       "  </thead>\n",
       "  <tbody>\n",
       "    <tr>\n",
       "      <th>47114</th>\n",
       "      <td>Sean Miller</td>\n",
       "      <td>22638.480</td>\n",
       "    </tr>\n",
       "    <tr>\n",
       "      <th>49003</th>\n",
       "      <td>Tamara Chand</td>\n",
       "      <td>17499.950</td>\n",
       "    </tr>\n",
       "    <tr>\n",
       "      <th>44248</th>\n",
       "      <td>Raymond Buch</td>\n",
       "      <td>13999.960</td>\n",
       "    </tr>\n",
       "    <tr>\n",
       "      <th>49940</th>\n",
       "      <td>Tom Ashbrook</td>\n",
       "      <td>11199.968</td>\n",
       "    </tr>\n",
       "    <tr>\n",
       "      <th>25238</th>\n",
       "      <td>Hunter Lopez</td>\n",
       "      <td>10499.970</td>\n",
       "    </tr>\n",
       "  </tbody>\n",
       "</table>\n",
       "</div>"
      ],
      "text/plain": [
       "      Customer Name      Sales\n",
       "47114   Sean Miller  22638.480\n",
       "49003  Tamara Chand  17499.950\n",
       "44248  Raymond Buch  13999.960\n",
       "49940  Tom Ashbrook  11199.968\n",
       "25238  Hunter Lopez  10499.970"
      ]
     },
     "execution_count": 12,
     "metadata": {},
     "output_type": "execute_result"
    }
   ],
   "source": [
    "Top_5_sales=data.loc[:,['Customer Name','Sales']].sort_values(by='Sales',ascending=False).head()\n",
    "Top_5_sales"
   ]
  },
  {
   "cell_type": "code",
   "execution_count": 15,
   "id": "272576be",
   "metadata": {
    "ExecuteTime": {
     "end_time": "2024-11-16T13:46:47.331840Z",
     "start_time": "2024-11-16T13:46:47.201640Z"
    }
   },
   "outputs": [
    {
     "data": {
      "image/png": "[encoded data removed]",
      "text/plain": [
       "<Figure size 640x480 with 1 Axes>"
      ]
     },
     "metadata": {},
     "output_type": "display_data"
    }
   ],
   "source": [
    "plt.pie(Top_5_sales['Sales'],labels=Top_5_sales['Customer Name'],autopct='%1.2f%%',shadow=True,explode=(0.1,0,0,0,0))\n",
    "plt.show;"
   ]
  },
  {
   "cell_type": "markdown",
   "id": "96af1014",
   "metadata": {},
   "source": [
    "- TAKEAWAY: In top 5 sales list customer 'Sean millar' have the top around 30% "
   ]
  },
  {
   "cell_type": "markdown",
   "id": "73b02094",
   "metadata": {},
   "source": [
    "#### Top 10 sales of products"
   ]
  },
  {
   "cell_type": "code",
   "execution_count": 16,
   "id": "658f3d3e",
   "metadata": {
    "ExecuteTime": {
     "end_time": "2024-11-16T13:46:49.108134Z",
     "start_time": "2024-11-16T13:46:49.081835Z"
    }
   },
   "outputs": [
    {
     "data": {
      "text/html": [
       "<div>\n",
       "<style scoped>\n",
       "    .dataframe tbody tr th:only-of-type {\n",
       "        vertical-align: middle;\n",
       "    }\n",
       "\n",
       "    .dataframe tbody tr th {\n",
       "        vertical-align: top;\n",
       "    }\n",
       "\n",
       "    .dataframe thead th {\n",
       "        text-align: right;\n",
       "    }\n",
       "</style>\n",
       "<table border=\"1\" class=\"dataframe\">\n",
       "  <thead>\n",
       "    <tr style=\"text-align: right;\">\n",
       "      <th></th>\n",
       "      <th>Product Name</th>\n",
       "      <th>Sales</th>\n",
       "      <th>Quantity</th>\n",
       "      <th>Discount</th>\n",
       "      <th>Profit</th>\n",
       "      <th>Shipping Cost</th>\n",
       "    </tr>\n",
       "  </thead>\n",
       "  <tbody>\n",
       "    <tr>\n",
       "      <th>0</th>\n",
       "      <td>Apple Smart Phone, Full Size</td>\n",
       "      <td>86935.7786</td>\n",
       "      <td>171</td>\n",
       "      <td>5.44</td>\n",
       "      <td>5921.5786</td>\n",
       "      <td>8027.71500</td>\n",
       "    </tr>\n",
       "    <tr>\n",
       "      <th>1</th>\n",
       "      <td>Cisco Smart Phone, Full Size</td>\n",
       "      <td>76441.5306</td>\n",
       "      <td>139</td>\n",
       "      <td>2.07</td>\n",
       "      <td>17238.5206</td>\n",
       "      <td>7065.16600</td>\n",
       "    </tr>\n",
       "    <tr>\n",
       "      <th>2</th>\n",
       "      <td>Motorola Smart Phone, Full Size</td>\n",
       "      <td>73156.3030</td>\n",
       "      <td>134</td>\n",
       "      <td>5.61</td>\n",
       "      <td>17027.1130</td>\n",
       "      <td>8817.33100</td>\n",
       "    </tr>\n",
       "    <tr>\n",
       "      <th>3</th>\n",
       "      <td>Nokia Smart Phone, Full Size</td>\n",
       "      <td>71904.5555</td>\n",
       "      <td>147</td>\n",
       "      <td>6.79</td>\n",
       "      <td>9938.1955</td>\n",
       "      <td>7852.66300</td>\n",
       "    </tr>\n",
       "    <tr>\n",
       "      <th>4</th>\n",
       "      <td>Canon imageCLASS 2200 Advanced Copier</td>\n",
       "      <td>61599.8240</td>\n",
       "      <td>20</td>\n",
       "      <td>0.60</td>\n",
       "      <td>25199.9280</td>\n",
       "      <td>1276.32054</td>\n",
       "    </tr>\n",
       "    <tr>\n",
       "      <th>5</th>\n",
       "      <td>Hon Executive Leather Armchair, Adjustable</td>\n",
       "      <td>58193.4841</td>\n",
       "      <td>169</td>\n",
       "      <td>8.11</td>\n",
       "      <td>5997.2541</td>\n",
       "      <td>5751.54100</td>\n",
       "    </tr>\n",
       "    <tr>\n",
       "      <th>6</th>\n",
       "      <td>Office Star Executive Leather Armchair, Adjust...</td>\n",
       "      <td>50661.6840</td>\n",
       "      <td>141</td>\n",
       "      <td>6.47</td>\n",
       "      <td>4710.9840</td>\n",
       "      <td>5141.73400</td>\n",
       "    </tr>\n",
       "    <tr>\n",
       "      <th>7</th>\n",
       "      <td>Harbour Creations Executive Leather Armchair, ...</td>\n",
       "      <td>50121.5160</td>\n",
       "      <td>142</td>\n",
       "      <td>6.98</td>\n",
       "      <td>10427.3260</td>\n",
       "      <td>6548.16500</td>\n",
       "    </tr>\n",
       "    <tr>\n",
       "      <th>8</th>\n",
       "      <td>Samsung Smart Phone, Cordless</td>\n",
       "      <td>48653.4600</td>\n",
       "      <td>108</td>\n",
       "      <td>3.26</td>\n",
       "      <td>-198.0900</td>\n",
       "      <td>5892.07400</td>\n",
       "    </tr>\n",
       "    <tr>\n",
       "      <th>9</th>\n",
       "      <td>Nokia Smart Phone, with Caller ID</td>\n",
       "      <td>47877.7857</td>\n",
       "      <td>96</td>\n",
       "      <td>3.54</td>\n",
       "      <td>9465.3257</td>\n",
       "      <td>5321.11000</td>\n",
       "    </tr>\n",
       "  </tbody>\n",
       "</table>\n",
       "</div>"
      ],
      "text/plain": [
       "                                        Product Name       Sales  Quantity  \\\n",
       "0                       Apple Smart Phone, Full Size  86935.7786       171   \n",
       "1                       Cisco Smart Phone, Full Size  76441.5306       139   \n",
       "2                    Motorola Smart Phone, Full Size  73156.3030       134   \n",
       "3                       Nokia Smart Phone, Full Size  71904.5555       147   \n",
       "4              Canon imageCLASS 2200 Advanced Copier  61599.8240        20   \n",
       "5         Hon Executive Leather Armchair, Adjustable  58193.4841       169   \n",
       "6  Office Star Executive Leather Armchair, Adjust...  50661.6840       141   \n",
       "7  Harbour Creations Executive Leather Armchair, ...  50121.5160       142   \n",
       "8                      Samsung Smart Phone, Cordless  48653.4600       108   \n",
       "9                  Nokia Smart Phone, with Caller ID  47877.7857        96   \n",
       "\n",
       "   Discount      Profit  Shipping Cost  \n",
       "0      5.44   5921.5786     8027.71500  \n",
       "1      2.07  17238.5206     7065.16600  \n",
       "2      5.61  17027.1130     8817.33100  \n",
       "3      6.79   9938.1955     7852.66300  \n",
       "4      0.60  25199.9280     1276.32054  \n",
       "5      8.11   5997.2541     5751.54100  \n",
       "6      6.47   4710.9840     5141.73400  \n",
       "7      6.98  10427.3260     6548.16500  \n",
       "8      3.26   -198.0900     5892.07400  \n",
       "9      3.54   9465.3257     5321.11000  "
      ]
     },
     "execution_count": 16,
     "metadata": {},
     "output_type": "execute_result"
    }
   ],
   "source": [
    "Top_10_product=data.groupby('Product Name')[['Sales', 'Quantity', 'Discount','Profit', 'Shipping Cost']].sum().sort_values(by=['Sales', 'Quantity', 'Discount','Profit', 'Shipping Cost'],ascending=False).head(10).reset_index()\n",
    "Top_10_product"
   ]
  },
  {
   "cell_type": "code",
   "execution_count": 17,
   "id": "55d0c751",
   "metadata": {
    "ExecuteTime": {
     "end_time": "2024-11-16T13:46:49.936811Z",
     "start_time": "2024-11-16T13:46:49.704820Z"
    }
   },
   "outputs": [
    {
     "data": {
      "image/png": "[encoded data removed]",
      "text/plain": [
       "<Figure size 640x480 with 1 Axes>"
      ]
     },
     "metadata": {},
     "output_type": "display_data"
    }
   ],
   "source": [
    "plt.title('Top 10 Global Sales Products')\n",
    "plt.bar(Top_10_product['Product Name'],Top_10_product['Sales'])\n",
    "plt.xlabel('Product Name')\n",
    "plt.ylabel('Sales')\n",
    "plt.xticks(rotation=90)\n",
    "plt.show()"
   ]
  },
  {
   "cell_type": "markdown",
   "id": "3f73fe8d",
   "metadata": {},
   "source": [
    "#### Top 5 product sales in India"
   ]
  },
  {
   "cell_type": "code",
   "execution_count": 18,
   "id": "a736fa48",
   "metadata": {
    "ExecuteTime": {
     "end_time": "2024-11-16T13:46:50.861670Z",
     "start_time": "2024-11-16T13:46:50.853915Z"
    }
   },
   "outputs": [
    {
     "data": {
      "text/plain": [
       "array(['United States', 'Australia', 'Germany', 'Senegal', 'New Zealand',\n",
       "       'Afghanistan', 'Saudi Arabia', 'Brazil', 'China', 'France',\n",
       "       'Italy', 'Tanzania', 'Poland', 'United Kingdom', 'Mexico',\n",
       "       'El Salvador', 'Taiwan', 'India', 'Dominican Republic',\n",
       "       'Democratic Republic of the Congo', 'Indonesia', 'Uruguay', 'Iran',\n",
       "       'Mozambique', 'Bangladesh', 'Spain', 'Ukraine', 'Nicaragua',\n",
       "       'Morocco', 'Philippines', 'Austria', 'Colombia', 'Netherlands',\n",
       "       'Malaysia', 'Ecuador', 'Thailand', 'Somalia', 'Guatemala',\n",
       "       'Belarus', 'Cambodia', 'South Africa', 'Canada', 'Japan', 'Russia',\n",
       "       'Egypt', 'Azerbaijan', 'Lithuania', 'Argentina', 'Lesotho',\n",
       "       'Vietnam', 'Cuba', 'Romania', 'Turkey', 'Cameroon', 'Hungary',\n",
       "       'Singapore', 'Angola', 'Belgium', 'Pakistan', 'Finland', 'Ghana',\n",
       "       'Zambia', 'Iraq', 'Liberia', 'Georgia', 'Switzerland', 'Albania',\n",
       "       'Chad', 'Montenegro', 'Namibia', 'Portugal', 'Madagascar',\n",
       "       'Sweden', 'Myanmar (Burma)', 'Jamaica', 'Greece', 'Qatar',\n",
       "       'Republic of the Congo', 'Norway', 'Algeria', 'South Korea',\n",
       "       'Nigeria', 'Estonia', \"Cote d'Ivoire\", 'Honduras', 'Paraguay',\n",
       "       'Czech Republic', 'Central African Republic', 'Benin', 'Bolivia',\n",
       "       'Chile', 'Martinique', 'Syria', 'Lebanon', 'Kenya', 'Mali',\n",
       "       'Libya', 'Venezuela', 'Trinidad and Tobago', 'Ireland', 'Bulgaria',\n",
       "       'Panama', 'Israel', 'Haiti', 'Barbados', 'Slovenia', 'Togo',\n",
       "       'Mauritania', 'Burkina Faso', 'Guinea', 'Rwanda', 'Denmark',\n",
       "       'Niger', 'Papua New Guinea', 'Mongolia', 'Sudan', 'Kuwait', 'Peru',\n",
       "       'Sierra Leone', 'Luxembourg', 'Bosnia and Herzegovina',\n",
       "       'Guinea-Bissau', 'Djibouti', 'Tunisia', 'Croatia', 'Hong Kong',\n",
       "       'Nepal', 'Guadeloupe', 'Kyrgyzstan', 'Zimbabwe', 'Uzbekistan',\n",
       "       'South Sudan', 'Malawi', 'Gabon', 'Bahrain', 'Yemen', 'Jordan',\n",
       "       'United Arab Emirates', 'Moldova', 'Costa Rica', 'Swaziland',\n",
       "       'Western Sahara', 'Guyana', 'Serbia', 'Turkmenistan', 'Laos',\n",
       "       'Kazakhstan', 'Botswana', 'Ethiopia', 'Uganda', 'Slovakia',\n",
       "       'Sri Lanka', 'French Guiana', 'Tajikistan', 'Burundi', 'Bhutan',\n",
       "       'Macedonia', 'Eritrea', 'Equatorial Guinea', 'Belize', 'Armenia',\n",
       "       'Oman', 'Cyprus', 'Suriname', 'The Gambia'], dtype=object)"
      ]
     },
     "execution_count": 18,
     "metadata": {},
     "output_type": "execute_result"
    }
   ],
   "source": [
    "data['Country'].unique()"
   ]
  },
  {
   "cell_type": "code",
   "execution_count": 19,
   "id": "57d44fb9",
   "metadata": {
    "ExecuteTime": {
     "end_time": "2024-11-16T13:46:51.449316Z",
     "start_time": "2024-11-16T13:46:51.419311Z"
    }
   },
   "outputs": [
    {
     "data": {
      "text/html": [
       "<div>\n",
       "<style scoped>\n",
       "    .dataframe tbody tr th:only-of-type {\n",
       "        vertical-align: middle;\n",
       "    }\n",
       "\n",
       "    .dataframe tbody tr th {\n",
       "        vertical-align: top;\n",
       "    }\n",
       "\n",
       "    .dataframe thead th {\n",
       "        text-align: right;\n",
       "    }\n",
       "</style>\n",
       "<table border=\"1\" class=\"dataframe\">\n",
       "  <thead>\n",
       "    <tr style=\"text-align: right;\">\n",
       "      <th></th>\n",
       "      <th>Country</th>\n",
       "      <th>Product Name</th>\n",
       "      <th>Sales</th>\n",
       "    </tr>\n",
       "  </thead>\n",
       "  <tbody>\n",
       "    <tr>\n",
       "      <th>313</th>\n",
       "      <td>India</td>\n",
       "      <td>Apple Smart Phone, with Caller ID</td>\n",
       "      <td>5751.54</td>\n",
       "    </tr>\n",
       "    <tr>\n",
       "      <th>42</th>\n",
       "      <td>India</td>\n",
       "      <td>Sauder Classic Bookcase, Traditional</td>\n",
       "      <td>5667.87</td>\n",
       "    </tr>\n",
       "    <tr>\n",
       "      <th>402</th>\n",
       "      <td>India</td>\n",
       "      <td>Barricks Conference Table, Fully Assembled</td>\n",
       "      <td>5451.30</td>\n",
       "    </tr>\n",
       "    <tr>\n",
       "      <th>41</th>\n",
       "      <td>India</td>\n",
       "      <td>Motorola Smart Phone, with Caller ID</td>\n",
       "      <td>4518.78</td>\n",
       "    </tr>\n",
       "    <tr>\n",
       "      <th>392</th>\n",
       "      <td>India</td>\n",
       "      <td>Motorola Smart Phone, Full Size</td>\n",
       "      <td>4498.83</td>\n",
       "    </tr>\n",
       "  </tbody>\n",
       "</table>\n",
       "</div>"
      ],
      "text/plain": [
       "    Country                                Product Name    Sales\n",
       "313   India           Apple Smart Phone, with Caller ID  5751.54\n",
       "42    India        Sauder Classic Bookcase, Traditional  5667.87\n",
       "402   India  Barricks Conference Table, Fully Assembled  5451.30\n",
       "41    India        Motorola Smart Phone, with Caller ID  4518.78\n",
       "392   India             Motorola Smart Phone, Full Size  4498.83"
      ]
     },
     "execution_count": 19,
     "metadata": {},
     "output_type": "execute_result"
    }
   ],
   "source": [
    "Top_5_IND=data[data['Country']=='India'].loc[:,['Country','Product Name','Sales']].sort_values(by='Sales',ascending=False).head()\n",
    "Top_5_IND"
   ]
  },
  {
   "cell_type": "code",
   "execution_count": 20,
   "id": "61d2a2b0",
   "metadata": {
    "ExecuteTime": {
     "end_time": "2024-11-16T13:46:52.355824Z",
     "start_time": "2024-11-16T13:46:52.206805Z"
    }
   },
   "outputs": [
    {
     "data": {
      "image/png": "[encoded data removed]",
      "text/plain": [
       "<Figure size 640x480 with 1 Axes>"
      ]
     },
     "metadata": {},
     "output_type": "display_data"
    }
   ],
   "source": [
    "plt.title('TOP 5 Indian product sales')\n",
    "plt.pie(Top_5_IND['Sales'],labels=Top_5_IND['Product Name'],autopct='%1.2f%%',shadow=True,explode=(0.1,0,0,0,0));"
   ]
  },
  {
   "cell_type": "markdown",
   "id": "2e965af8",
   "metadata": {},
   "source": [
    "- TAKEAWAY : In the country india Apple Smart Phone,with Caller ID Having the Most Sales In top 5 this product having around 22.22% od sales"
   ]
  },
  {
   "cell_type": "markdown",
   "id": "3cd509a8",
   "metadata": {},
   "source": [
    "#### In which country the product name 'Samsung Convoy 3' going most (Quantity)"
   ]
  },
  {
   "cell_type": "code",
   "execution_count": 21,
   "id": "dad0df7e",
   "metadata": {
    "ExecuteTime": {
     "end_time": "2024-11-16T13:46:53.874778Z",
     "start_time": "2024-11-16T13:46:53.865355Z"
    }
   },
   "outputs": [
    {
     "data": {
      "text/plain": [
       "array(['Samsung Convoy 3', 'Novimex Executive Leather Armchair, Black',\n",
       "       'Nokia Smart Phone, with Caller ID', ...,\n",
       "       'Belkin 8 Outlet SurgeMaster II Gold Surge Protector with Phone Protection',\n",
       "       'Hewlett-Packard Deskjet D4360 Printer', 'Cisco SPA 501G IP Phone'],\n",
       "      dtype=object)"
      ]
     },
     "execution_count": 21,
     "metadata": {},
     "output_type": "execute_result"
    }
   ],
   "source": [
    "data['Product Name'].unique()"
   ]
  },
  {
   "cell_type": "code",
   "execution_count": 22,
   "id": "99071271",
   "metadata": {
    "ExecuteTime": {
     "end_time": "2024-11-16T13:46:54.389810Z",
     "start_time": "2024-11-16T13:46:54.375655Z"
    }
   },
   "outputs": [
    {
     "data": {
      "text/html": [
       "<div>\n",
       "<style scoped>\n",
       "    .dataframe tbody tr th:only-of-type {\n",
       "        vertical-align: middle;\n",
       "    }\n",
       "\n",
       "    .dataframe tbody tr th {\n",
       "        vertical-align: top;\n",
       "    }\n",
       "\n",
       "    .dataframe thead th {\n",
       "        text-align: right;\n",
       "    }\n",
       "</style>\n",
       "<table border=\"1\" class=\"dataframe\">\n",
       "  <thead>\n",
       "    <tr style=\"text-align: right;\">\n",
       "      <th></th>\n",
       "      <th>Product Name</th>\n",
       "      <th>Quantity</th>\n",
       "      <th>Sales</th>\n",
       "      <th>Country</th>\n",
       "    </tr>\n",
       "  </thead>\n",
       "  <tbody>\n",
       "    <tr>\n",
       "      <th>32217</th>\n",
       "      <td>Samsung Convoy 3</td>\n",
       "      <td>7</td>\n",
       "      <td>466.158</td>\n",
       "      <td>United States</td>\n",
       "    </tr>\n",
       "    <tr>\n",
       "      <th>0</th>\n",
       "      <td>Samsung Convoy 3</td>\n",
       "      <td>2</td>\n",
       "      <td>221.980</td>\n",
       "      <td>United States</td>\n",
       "    </tr>\n",
       "  </tbody>\n",
       "</table>\n",
       "</div>"
      ],
      "text/plain": [
       "           Product Name  Quantity    Sales        Country\n",
       "32217  Samsung Convoy 3         7  466.158  United States\n",
       "0      Samsung Convoy 3         2  221.980  United States"
      ]
     },
     "execution_count": 22,
     "metadata": {},
     "output_type": "execute_result"
    }
   ],
   "source": [
    "Apple=data[data['Product Name']=='Samsung Convoy 3'].loc[:,['Product Name','Quantity','Sales','Country']].sort_values(by='Quantity',ascending=False)\n",
    "Apple"
   ]
  },
  {
   "cell_type": "markdown",
   "id": "358efd1e",
   "metadata": {},
   "source": [
    "- TAKEAWAY : The Product Name 'Samsung Convoy 3' is most going in the country United States around 7 Quantity"
   ]
  },
  {
   "cell_type": "markdown",
   "id": "fd2d7c38",
   "metadata": {},
   "source": [
    "#### Details of the product exported through the ship and In which class"
   ]
  },
  {
   "cell_type": "code",
   "execution_count": 23,
   "id": "37a6907d",
   "metadata": {
    "ExecuteTime": {
     "end_time": "2024-11-16T13:46:55.873647Z",
     "start_time": "2024-11-16T13:46:55.864432Z"
    }
   },
   "outputs": [
    {
     "data": {
      "text/plain": [
       "array(['First Class', 'Second Class', 'Same Day', 'Standard Class'],\n",
       "      dtype=object)"
      ]
     },
     "execution_count": 23,
     "metadata": {},
     "output_type": "execute_result"
    }
   ],
   "source": [
    "data['Ship Mode'].unique()"
   ]
  },
  {
   "cell_type": "code",
   "execution_count": 24,
   "id": "2431783b",
   "metadata": {
    "ExecuteTime": {
     "end_time": "2024-11-16T13:46:56.396101Z",
     "start_time": "2024-11-16T13:46:56.387218Z"
    }
   },
   "outputs": [
    {
     "data": {
      "text/plain": [
       "Ship Mode\n",
       "Standard Class    30775\n",
       "Second Class      10309\n",
       "First Class        7505\n",
       "Same Day           2701\n",
       "Name: count, dtype: int64"
      ]
     },
     "execution_count": 24,
     "metadata": {},
     "output_type": "execute_result"
    }
   ],
   "source": [
    "ship_classes=data['Ship Mode'].value_counts()\n",
    "ship_classes"
   ]
  },
  {
   "cell_type": "code",
   "execution_count": 25,
   "id": "63ae9cc5",
   "metadata": {
    "ExecuteTime": {
     "end_time": "2024-11-16T13:46:56.962619Z",
     "start_time": "2024-11-16T13:46:56.953210Z"
    }
   },
   "outputs": [
    {
     "data": {
      "text/html": [
       "<div>\n",
       "<style scoped>\n",
       "    .dataframe tbody tr th:only-of-type {\n",
       "        vertical-align: middle;\n",
       "    }\n",
       "\n",
       "    .dataframe tbody tr th {\n",
       "        vertical-align: top;\n",
       "    }\n",
       "\n",
       "    .dataframe thead th {\n",
       "        text-align: right;\n",
       "    }\n",
       "</style>\n",
       "<table border=\"1\" class=\"dataframe\">\n",
       "  <thead>\n",
       "    <tr style=\"text-align: right;\">\n",
       "      <th></th>\n",
       "      <th>Ship Mode</th>\n",
       "      <th>count</th>\n",
       "    </tr>\n",
       "  </thead>\n",
       "  <tbody>\n",
       "    <tr>\n",
       "      <th>0</th>\n",
       "      <td>Standard Class</td>\n",
       "      <td>30775</td>\n",
       "    </tr>\n",
       "    <tr>\n",
       "      <th>1</th>\n",
       "      <td>Second Class</td>\n",
       "      <td>10309</td>\n",
       "    </tr>\n",
       "    <tr>\n",
       "      <th>2</th>\n",
       "      <td>First Class</td>\n",
       "      <td>7505</td>\n",
       "    </tr>\n",
       "    <tr>\n",
       "      <th>3</th>\n",
       "      <td>Same Day</td>\n",
       "      <td>2701</td>\n",
       "    </tr>\n",
       "  </tbody>\n",
       "</table>\n",
       "</div>"
      ],
      "text/plain": [
       "        Ship Mode  count\n",
       "0  Standard Class  30775\n",
       "1    Second Class  10309\n",
       "2     First Class   7505\n",
       "3        Same Day   2701"
      ]
     },
     "execution_count": 25,
     "metadata": {},
     "output_type": "execute_result"
    }
   ],
   "source": [
    "ship_classes=pd.DataFrame(ship_classes).reset_index()\n",
    "ship_classes"
   ]
  },
  {
   "cell_type": "code",
   "execution_count": 26,
   "id": "008c5229",
   "metadata": {
    "ExecuteTime": {
     "end_time": "2024-11-16T13:46:57.595804Z",
     "start_time": "2024-11-16T13:46:57.485306Z"
    }
   },
   "outputs": [
    {
     "data": {
      "image/png": "[encoded data removed]",
      "text/plain": [
       "<Figure size 640x480 with 1 Axes>"
      ]
     },
     "metadata": {},
     "output_type": "display_data"
    }
   ],
   "source": [
    "plt.title('Product ship travelling mode')\n",
    "plt.bar(ship_classes['Ship Mode'],ship_classes['count'])\n",
    "plt.xlabel('Ship Mode')\n",
    "plt.ylabel('no: of products traveled')\n",
    "plt.show()"
   ]
  },
  {
   "cell_type": "markdown",
   "id": "59dc91a2",
   "metadata": {},
   "source": [
    "- TAKE AWAY : Most of the products are exported in standard class "
   ]
  },
  {
   "cell_type": "markdown",
   "id": "9b9901d5",
   "metadata": {},
   "source": [
    "#### In which of the segment where the category type technology going the most"
   ]
  },
  {
   "cell_type": "code",
   "execution_count": 27,
   "id": "3495b24a",
   "metadata": {
    "ExecuteTime": {
     "end_time": "2024-11-16T13:46:59.346447Z",
     "start_time": "2024-11-16T13:46:59.327694Z"
    }
   },
   "outputs": [
    {
     "data": {
      "text/html": [
       "<div>\n",
       "<style scoped>\n",
       "    .dataframe tbody tr th:only-of-type {\n",
       "        vertical-align: middle;\n",
       "    }\n",
       "\n",
       "    .dataframe tbody tr th {\n",
       "        vertical-align: top;\n",
       "    }\n",
       "\n",
       "    .dataframe thead th {\n",
       "        text-align: right;\n",
       "    }\n",
       "</style>\n",
       "<table border=\"1\" class=\"dataframe\">\n",
       "  <thead>\n",
       "    <tr style=\"text-align: right;\">\n",
       "      <th></th>\n",
       "      <th>Segment</th>\n",
       "      <th>Category</th>\n",
       "      <th>Sales</th>\n",
       "    </tr>\n",
       "  </thead>\n",
       "  <tbody>\n",
       "    <tr>\n",
       "      <th>47114</th>\n",
       "      <td>Home Office</td>\n",
       "      <td>Technology</td>\n",
       "      <td>22638.480</td>\n",
       "    </tr>\n",
       "    <tr>\n",
       "      <th>49003</th>\n",
       "      <td>Corporate</td>\n",
       "      <td>Technology</td>\n",
       "      <td>17499.950</td>\n",
       "    </tr>\n",
       "    <tr>\n",
       "      <th>44248</th>\n",
       "      <td>Consumer</td>\n",
       "      <td>Technology</td>\n",
       "      <td>13999.960</td>\n",
       "    </tr>\n",
       "    <tr>\n",
       "      <th>49940</th>\n",
       "      <td>Home Office</td>\n",
       "      <td>Technology</td>\n",
       "      <td>11199.968</td>\n",
       "    </tr>\n",
       "    <tr>\n",
       "      <th>25238</th>\n",
       "      <td>Consumer</td>\n",
       "      <td>Technology</td>\n",
       "      <td>10499.970</td>\n",
       "    </tr>\n",
       "    <tr>\n",
       "      <th>6422</th>\n",
       "      <td>Corporate</td>\n",
       "      <td>Technology</td>\n",
       "      <td>9099.930</td>\n",
       "    </tr>\n",
       "    <tr>\n",
       "      <th>46386</th>\n",
       "      <td>Consumer</td>\n",
       "      <td>Technology</td>\n",
       "      <td>8749.950</td>\n",
       "    </tr>\n",
       "    <tr>\n",
       "      <th>11063</th>\n",
       "      <td>Consumer</td>\n",
       "      <td>Technology</td>\n",
       "      <td>8399.976</td>\n",
       "    </tr>\n",
       "    <tr>\n",
       "      <th>5326</th>\n",
       "      <td>Consumer</td>\n",
       "      <td>Technology</td>\n",
       "      <td>8159.952</td>\n",
       "    </tr>\n",
       "    <tr>\n",
       "      <th>23110</th>\n",
       "      <td>Corporate</td>\n",
       "      <td>Technology</td>\n",
       "      <td>7999.980</td>\n",
       "    </tr>\n",
       "  </tbody>\n",
       "</table>\n",
       "</div>"
      ],
      "text/plain": [
       "           Segment    Category      Sales\n",
       "47114  Home Office  Technology  22638.480\n",
       "49003    Corporate  Technology  17499.950\n",
       "44248     Consumer  Technology  13999.960\n",
       "49940  Home Office  Technology  11199.968\n",
       "25238     Consumer  Technology  10499.970\n",
       "6422     Corporate  Technology   9099.930\n",
       "46386     Consumer  Technology   8749.950\n",
       "11063     Consumer  Technology   8399.976\n",
       "5326      Consumer  Technology   8159.952\n",
       "23110    Corporate  Technology   7999.980"
      ]
     },
     "execution_count": 27,
     "metadata": {},
     "output_type": "execute_result"
    }
   ],
   "source": [
    "Tec=data[data['Category']=='Technology'].loc[:,['Segment','Category','Sales']].sort_values(by='Sales',ascending=False).head(10)\n",
    "Tec"
   ]
  },
  {
   "cell_type": "code",
   "execution_count": 28,
   "id": "56887135",
   "metadata": {
    "ExecuteTime": {
     "end_time": "2024-11-16T13:46:59.922399Z",
     "start_time": "2024-11-16T13:46:59.909822Z"
    }
   },
   "outputs": [
    {
     "data": {
      "text/html": [
       "<div>\n",
       "<style scoped>\n",
       "    .dataframe tbody tr th:only-of-type {\n",
       "        vertical-align: middle;\n",
       "    }\n",
       "\n",
       "    .dataframe tbody tr th {\n",
       "        vertical-align: top;\n",
       "    }\n",
       "\n",
       "    .dataframe thead th {\n",
       "        text-align: right;\n",
       "    }\n",
       "</style>\n",
       "<table border=\"1\" class=\"dataframe\">\n",
       "  <thead>\n",
       "    <tr style=\"text-align: right;\">\n",
       "      <th></th>\n",
       "      <th>Segment</th>\n",
       "      <th>Sales</th>\n",
       "    </tr>\n",
       "  </thead>\n",
       "  <tbody>\n",
       "    <tr>\n",
       "      <th>0</th>\n",
       "      <td>Consumer</td>\n",
       "      <td>49809.808</td>\n",
       "    </tr>\n",
       "    <tr>\n",
       "      <th>1</th>\n",
       "      <td>Corporate</td>\n",
       "      <td>34599.860</td>\n",
       "    </tr>\n",
       "    <tr>\n",
       "      <th>2</th>\n",
       "      <td>Home Office</td>\n",
       "      <td>33838.448</td>\n",
       "    </tr>\n",
       "  </tbody>\n",
       "</table>\n",
       "</div>"
      ],
      "text/plain": [
       "       Segment      Sales\n",
       "0     Consumer  49809.808\n",
       "1    Corporate  34599.860\n",
       "2  Home Office  33838.448"
      ]
     },
     "execution_count": 28,
     "metadata": {},
     "output_type": "execute_result"
    }
   ],
   "source": [
    "Tecno=Tec.groupby('Segment')['Sales'].sum()\n",
    "Tecno=pd.DataFrame(Tecno).reset_index()\n",
    "Tecno"
   ]
  },
  {
   "cell_type": "code",
   "execution_count": 29,
   "id": "e7ad8d3d",
   "metadata": {
    "ExecuteTime": {
     "end_time": "2024-11-16T13:47:00.652527Z",
     "start_time": "2024-11-16T13:47:00.517875Z"
    }
   },
   "outputs": [
    {
     "data": {
      "image/png": "[encoded data removed]",
      "text/plain": [
       "<Figure size 640x480 with 1 Axes>"
      ]
     },
     "metadata": {},
     "output_type": "display_data"
    }
   ],
   "source": [
    "plt.title('Top Tecnology Sales Segment')\n",
    "plt.bar(Tecno['Segment'],Tecno['Sales'])\n",
    "plt.xlabel('Segment')\n",
    "plt.ylabel('Sales')\n",
    "plt.show()"
   ]
  },
  {
   "cell_type": "markdown",
   "id": "2ebe613b",
   "metadata": {},
   "source": [
    "- TAKE AWAY : In consumer segment the tecnology having a great sales around 50000"
   ]
  },
  {
   "cell_type": "code",
   "execution_count": 30,
   "id": "9d8f5676",
   "metadata": {
    "ExecuteTime": {
     "end_time": "2024-11-16T13:47:02.775890Z",
     "start_time": "2024-11-16T13:47:02.771807Z"
    }
   },
   "outputs": [
    {
     "data": {
      "text/plain": [
       "Index(['Row ID', 'Order ID', 'Order Date', 'Ship Date', 'Ship Mode',\n",
       "       'Customer ID', 'Customer Name', 'Segment', 'Postal Code', 'City',\n",
       "       'State', 'Country', 'Region', 'Market', 'Product ID', 'Category',\n",
       "       'Sub-Category', 'Product Name', 'Sales', 'Quantity', 'Discount',\n",
       "       'Profit', 'Shipping Cost', 'Order Priority'],\n",
       "      dtype='object')"
      ]
     },
     "execution_count": 30,
     "metadata": {},
     "output_type": "execute_result"
    }
   ],
   "source": [
    "data.columns"
   ]
  },
  {
   "cell_type": "markdown",
   "id": "22772cf7",
   "metadata": {},
   "source": [
    "#### In Furniture Category which sub category is selling more"
   ]
  },
  {
   "cell_type": "code",
   "execution_count": 32,
   "id": "79c2b4d4",
   "metadata": {
    "ExecuteTime": {
     "end_time": "2024-11-16T13:58:28.147185Z",
     "start_time": "2024-11-16T13:58:28.096513Z"
    }
   },
   "outputs": [
    {
     "data": {
      "text/html": [
       "<div>\n",
       "<style scoped>\n",
       "    .dataframe tbody tr th:only-of-type {\n",
       "        vertical-align: middle;\n",
       "    }\n",
       "\n",
       "    .dataframe tbody tr th {\n",
       "        vertical-align: top;\n",
       "    }\n",
       "\n",
       "    .dataframe thead th {\n",
       "        text-align: right;\n",
       "    }\n",
       "</style>\n",
       "<table border=\"1\" class=\"dataframe\">\n",
       "  <thead>\n",
       "    <tr style=\"text-align: right;\">\n",
       "      <th></th>\n",
       "      <th>Category</th>\n",
       "      <th>Sub-Category</th>\n",
       "      <th>Sales</th>\n",
       "    </tr>\n",
       "  </thead>\n",
       "  <tbody>\n",
       "    <tr>\n",
       "      <th>1156</th>\n",
       "      <td>Furniture</td>\n",
       "      <td>Chairs</td>\n",
       "      <td>5759.964</td>\n",
       "    </tr>\n",
       "    <tr>\n",
       "      <th>80</th>\n",
       "      <td>Furniture</td>\n",
       "      <td>Chairs</td>\n",
       "      <td>5729.346</td>\n",
       "    </tr>\n",
       "    <tr>\n",
       "      <th>42</th>\n",
       "      <td>Furniture</td>\n",
       "      <td>Bookcases</td>\n",
       "      <td>5667.870</td>\n",
       "    </tr>\n",
       "    <tr>\n",
       "      <th>334</th>\n",
       "      <td>Furniture</td>\n",
       "      <td>Bookcases</td>\n",
       "      <td>5486.670</td>\n",
       "    </tr>\n",
       "    <tr>\n",
       "      <th>402</th>\n",
       "      <td>Furniture</td>\n",
       "      <td>Tables</td>\n",
       "      <td>5451.300</td>\n",
       "    </tr>\n",
       "    <tr>\n",
       "      <th>192</th>\n",
       "      <td>Furniture</td>\n",
       "      <td>Tables</td>\n",
       "      <td>5451.300</td>\n",
       "    </tr>\n",
       "    <tr>\n",
       "      <th>7</th>\n",
       "      <td>Furniture</td>\n",
       "      <td>Tables</td>\n",
       "      <td>5244.840</td>\n",
       "    </tr>\n",
       "    <tr>\n",
       "      <th>64</th>\n",
       "      <td>Furniture</td>\n",
       "      <td>Chairs</td>\n",
       "      <td>5049.000</td>\n",
       "    </tr>\n",
       "    <tr>\n",
       "      <th>11</th>\n",
       "      <td>Furniture</td>\n",
       "      <td>Tables</td>\n",
       "      <td>4626.150</td>\n",
       "    </tr>\n",
       "    <tr>\n",
       "      <th>118</th>\n",
       "      <td>Furniture</td>\n",
       "      <td>Chairs</td>\n",
       "      <td>4544.100</td>\n",
       "    </tr>\n",
       "  </tbody>\n",
       "</table>\n",
       "</div>"
      ],
      "text/plain": [
       "       Category Sub-Category     Sales\n",
       "1156  Furniture       Chairs  5759.964\n",
       "80    Furniture       Chairs  5729.346\n",
       "42    Furniture    Bookcases  5667.870\n",
       "334   Furniture    Bookcases  5486.670\n",
       "402   Furniture       Tables  5451.300\n",
       "192   Furniture       Tables  5451.300\n",
       "7     Furniture       Tables  5244.840\n",
       "64    Furniture       Chairs  5049.000\n",
       "11    Furniture       Tables  4626.150\n",
       "118   Furniture       Chairs  4544.100"
      ]
     },
     "execution_count": 32,
     "metadata": {},
     "output_type": "execute_result"
    }
   ],
   "source": [
    "Top_Sales_Furniture=data[data['Category']=='Furniture'].loc[:,['Category','Sub-Category','Sales']].sort_values(by='Sales',ascending=False).head(10)\n",
    "Top_Sales_Furniture"
   ]
  },
  {
   "cell_type": "code",
   "execution_count": 36,
   "id": "c6b1f6f2",
   "metadata": {
    "ExecuteTime": {
     "end_time": "2024-11-16T14:01:33.709440Z",
     "start_time": "2024-11-16T14:01:33.596268Z"
    }
   },
   "outputs": [
    {
     "data": {
      "image/png": "[encoded data removed]",
      "text/plain": [
       "<Figure size 640x480 with 1 Axes>"
      ]
     },
     "metadata": {},
     "output_type": "display_data"
    }
   ],
   "source": [
    "plt.title('Top selling product in Furniture')\n",
    "plt.bar(Top_Sales_Furniture['Sub-Category'],Top_Sales_Furniture['Sales'])\n",
    "plt.xlabel('category')\n",
    "plt.ylabel('Sales')\n",
    "plt.show()"
   ]
  },
  {
   "cell_type": "markdown",
   "id": "1892638e",
   "metadata": {},
   "source": [
    "- Takeaway : There were 3 subcategory in Furniture subcategory:Chair is selling is more"
   ]
  },
  {
   "cell_type": "markdown",
   "id": "8c175e61",
   "metadata": {},
   "source": [
    "#### Technology sold in loss In India"
   ]
  },
  {
   "cell_type": "code",
   "execution_count": 42,
   "id": "438e3f04",
   "metadata": {
    "ExecuteTime": {
     "end_time": "2024-11-16T14:13:20.841013Z",
     "start_time": "2024-11-16T14:13:20.836513Z"
    }
   },
   "outputs": [
    {
     "data": {
      "text/plain": [
       "Index(['Row ID', 'Order ID', 'Order Date', 'Ship Date', 'Ship Mode',\n",
       "       'Customer ID', 'Customer Name', 'Segment', 'Postal Code', 'City',\n",
       "       'State', 'Country', 'Region', 'Market', 'Product ID', 'Category',\n",
       "       'Sub-Category', 'Product Name', 'Sales', 'Quantity', 'Discount',\n",
       "       'Profit', 'Shipping Cost', 'Order Priority'],\n",
       "      dtype='object')"
      ]
     },
     "execution_count": 42,
     "metadata": {},
     "output_type": "execute_result"
    }
   ],
   "source": [
    "data.columns"
   ]
  },
  {
   "cell_type": "code",
   "execution_count": 54,
   "id": "212f38bc",
   "metadata": {
    "ExecuteTime": {
     "end_time": "2024-11-16T14:27:19.891551Z",
     "start_time": "2024-11-16T14:27:19.875133Z"
    }
   },
   "outputs": [
    {
     "data": {
      "text/html": [
       "<div>\n",
       "<style scoped>\n",
       "    .dataframe tbody tr th:only-of-type {\n",
       "        vertical-align: middle;\n",
       "    }\n",
       "\n",
       "    .dataframe tbody tr th {\n",
       "        vertical-align: top;\n",
       "    }\n",
       "\n",
       "    .dataframe thead th {\n",
       "        text-align: right;\n",
       "    }\n",
       "</style>\n",
       "<table border=\"1\" class=\"dataframe\">\n",
       "  <thead>\n",
       "    <tr style=\"text-align: right;\">\n",
       "      <th></th>\n",
       "      <th>Customer Name</th>\n",
       "      <th>Country</th>\n",
       "      <th>Category</th>\n",
       "      <th>Profit</th>\n",
       "      <th>Sales</th>\n",
       "    </tr>\n",
       "  </thead>\n",
       "  <tbody>\n",
       "    <tr>\n",
       "      <th>12599</th>\n",
       "      <td>Vicky Freymann</td>\n",
       "      <td>India</td>\n",
       "      <td>Technology</td>\n",
       "      <td>-522.090</td>\n",
       "      <td>567.450</td>\n",
       "    </tr>\n",
       "    <tr>\n",
       "      <th>2550</th>\n",
       "      <td>Max Jones</td>\n",
       "      <td>India</td>\n",
       "      <td>Technology</td>\n",
       "      <td>-447.150</td>\n",
       "      <td>770.850</td>\n",
       "    </tr>\n",
       "    <tr>\n",
       "      <th>13580</th>\n",
       "      <td>Dan Reichenbach</td>\n",
       "      <td>India</td>\n",
       "      <td>Technology</td>\n",
       "      <td>-246.120</td>\n",
       "      <td>273.360</td>\n",
       "    </tr>\n",
       "    <tr>\n",
       "      <th>1701</th>\n",
       "      <td>Maureen Gastineau</td>\n",
       "      <td>India</td>\n",
       "      <td>Technology</td>\n",
       "      <td>-152.760</td>\n",
       "      <td>346.920</td>\n",
       "    </tr>\n",
       "    <tr>\n",
       "      <th>9973</th>\n",
       "      <td>Patrick Ryan</td>\n",
       "      <td>India</td>\n",
       "      <td>Technology</td>\n",
       "      <td>-140.580</td>\n",
       "      <td>369.720</td>\n",
       "    </tr>\n",
       "    <tr>\n",
       "      <th>23442</th>\n",
       "      <td>Nora Preis</td>\n",
       "      <td>India</td>\n",
       "      <td>Technology</td>\n",
       "      <td>-30.735</td>\n",
       "      <td>109.665</td>\n",
       "    </tr>\n",
       "    <tr>\n",
       "      <th>2973</th>\n",
       "      <td>Craig Reiter</td>\n",
       "      <td>India</td>\n",
       "      <td>Technology</td>\n",
       "      <td>-25.680</td>\n",
       "      <td>639.840</td>\n",
       "    </tr>\n",
       "    <tr>\n",
       "      <th>9833</th>\n",
       "      <td>Rick Huthwaite</td>\n",
       "      <td>India</td>\n",
       "      <td>Technology</td>\n",
       "      <td>-20.820</td>\n",
       "      <td>345.060</td>\n",
       "    </tr>\n",
       "    <tr>\n",
       "      <th>9748</th>\n",
       "      <td>Michael Kennedy</td>\n",
       "      <td>India</td>\n",
       "      <td>Technology</td>\n",
       "      <td>-18.990</td>\n",
       "      <td>117.990</td>\n",
       "    </tr>\n",
       "    <tr>\n",
       "      <th>26994</th>\n",
       "      <td>Barbara Fisher</td>\n",
       "      <td>India</td>\n",
       "      <td>Technology</td>\n",
       "      <td>-4.815</td>\n",
       "      <td>118.935</td>\n",
       "    </tr>\n",
       "    <tr>\n",
       "      <th>27928</th>\n",
       "      <td>Craig Reiter</td>\n",
       "      <td>India</td>\n",
       "      <td>Technology</td>\n",
       "      <td>-1.470</td>\n",
       "      <td>73.470</td>\n",
       "    </tr>\n",
       "  </tbody>\n",
       "</table>\n",
       "</div>"
      ],
      "text/plain": [
       "           Customer Name Country    Category   Profit    Sales\n",
       "12599     Vicky Freymann   India  Technology -522.090  567.450\n",
       "2550           Max Jones   India  Technology -447.150  770.850\n",
       "13580    Dan Reichenbach   India  Technology -246.120  273.360\n",
       "1701   Maureen Gastineau   India  Technology -152.760  346.920\n",
       "9973        Patrick Ryan   India  Technology -140.580  369.720\n",
       "23442         Nora Preis   India  Technology  -30.735  109.665\n",
       "2973        Craig Reiter   India  Technology  -25.680  639.840\n",
       "9833      Rick Huthwaite   India  Technology  -20.820  345.060\n",
       "9748     Michael Kennedy   India  Technology  -18.990  117.990\n",
       "26994     Barbara Fisher   India  Technology   -4.815  118.935\n",
       "27928       Craig Reiter   India  Technology   -1.470   73.470"
      ]
     },
     "execution_count": 54,
     "metadata": {},
     "output_type": "execute_result"
    }
   ],
   "source": [
    "loss_tech=data[(data['Profit']<0)&(data['Category']=='Technology')&(data['Country']=='India')].loc[:,['Customer Name','Country','Category','Profit','Sales']]\n",
    "loss_tech=loss_tech.sort_values(by=['Profit','Sales'])\n",
    "loss_tech"
   ]
  },
  {
   "cell_type": "code",
   "execution_count": 48,
   "id": "d1becfd1",
   "metadata": {
    "ExecuteTime": {
     "end_time": "2024-11-16T14:17:08.266916Z",
     "start_time": "2024-11-16T14:17:08.127144Z"
    }
   },
   "outputs": [
    {
     "data": {
      "image/png": "[encoded data removed]",
      "text/plain": [
       "<Figure size 640x480 with 1 Axes>"
      ]
     },
     "metadata": {},
     "output_type": "display_data"
    }
   ],
   "source": [
    "plt.title('Technology sold in loss In India')\n",
    "plt.bar(loss_tech['Customer Name'],loss_tech['Profit'])\n",
    "plt.xlabel('Cusomers name')\n",
    "plt.ylabel('loss')\n",
    "plt.xticks(rotation=90)\n",
    "plt.show()"
   ]
  },
  {
   "cell_type": "markdown",
   "id": "fae95de6",
   "metadata": {},
   "source": [
    "- Take away : There were 10 customers from India in which The Category technology having loss"
   ]
  },
  {
   "cell_type": "code",
   "execution_count": 56,
   "id": "1e72b8b1",
   "metadata": {
    "ExecuteTime": {
     "end_time": "2024-11-16T14:30:56.463887Z",
     "start_time": "2024-11-16T14:30:56.459163Z"
    }
   },
   "outputs": [
    {
     "data": {
      "text/plain": [
       "Index(['Row ID', 'Order ID', 'Order Date', 'Ship Date', 'Ship Mode',\n",
       "       'Customer ID', 'Customer Name', 'Segment', 'Postal Code', 'City',\n",
       "       'State', 'Country', 'Region', 'Market', 'Product ID', 'Category',\n",
       "       'Sub-Category', 'Product Name', 'Sales', 'Quantity', 'Discount',\n",
       "       'Profit', 'Shipping Cost', 'Order Priority'],\n",
       "      dtype='object')"
      ]
     },
     "execution_count": 56,
     "metadata": {},
     "output_type": "execute_result"
    }
   ],
   "source": [
    "data.columns"
   ]
  },
  {
   "cell_type": "code",
   "execution_count": 57,
   "id": "91099a8e",
   "metadata": {
    "ExecuteTime": {
     "end_time": "2024-11-16T14:31:11.876498Z",
     "start_time": "2024-11-16T14:31:11.869420Z"
    }
   },
   "outputs": [
    {
     "data": {
      "text/plain": [
       "0            High\n",
       "1        Critical\n",
       "2          Medium\n",
       "3          Medium\n",
       "4        Critical\n",
       "           ...   \n",
       "51285      Medium\n",
       "51286        High\n",
       "51287        High\n",
       "51288      Medium\n",
       "51289        High\n",
       "Name: Order Priority, Length: 51290, dtype: object"
      ]
     },
     "execution_count": 57,
     "metadata": {},
     "output_type": "execute_result"
    }
   ],
   "source": [
    "data['Order Priority']"
   ]
  },
  {
   "cell_type": "code",
   "execution_count": 63,
   "id": "ed33d0d8",
   "metadata": {
    "ExecuteTime": {
     "end_time": "2024-11-16T14:36:08.291470Z",
     "start_time": "2024-11-16T14:36:08.277148Z"
    }
   },
   "outputs": [],
   "source": [
    "priority=data.loc[:,['Category','Order Priority']].value_counts()"
   ]
  },
  {
   "cell_type": "code",
   "execution_count": 65,
   "id": "ecf38843",
   "metadata": {
    "ExecuteTime": {
     "end_time": "2024-11-16T14:36:58.435646Z",
     "start_time": "2024-11-16T14:36:58.427105Z"
    }
   },
   "outputs": [
    {
     "data": {
      "text/html": [
       "<div>\n",
       "<style scoped>\n",
       "    .dataframe tbody tr th:only-of-type {\n",
       "        vertical-align: middle;\n",
       "    }\n",
       "\n",
       "    .dataframe tbody tr th {\n",
       "        vertical-align: top;\n",
       "    }\n",
       "\n",
       "    .dataframe thead th {\n",
       "        text-align: right;\n",
       "    }\n",
       "</style>\n",
       "<table border=\"1\" class=\"dataframe\">\n",
       "  <thead>\n",
       "    <tr style=\"text-align: right;\">\n",
       "      <th></th>\n",
       "      <th>Category</th>\n",
       "      <th>Order Priority</th>\n",
       "      <th>count</th>\n",
       "    </tr>\n",
       "  </thead>\n",
       "  <tbody>\n",
       "    <tr>\n",
       "      <th>0</th>\n",
       "      <td>Office Supplies</td>\n",
       "      <td>Medium</td>\n",
       "      <td>17882</td>\n",
       "    </tr>\n",
       "    <tr>\n",
       "      <th>1</th>\n",
       "      <td>Office Supplies</td>\n",
       "      <td>High</td>\n",
       "      <td>9473</td>\n",
       "    </tr>\n",
       "    <tr>\n",
       "      <th>2</th>\n",
       "      <td>Technology</td>\n",
       "      <td>Medium</td>\n",
       "      <td>5813</td>\n",
       "    </tr>\n",
       "    <tr>\n",
       "      <th>3</th>\n",
       "      <td>Furniture</td>\n",
       "      <td>Medium</td>\n",
       "      <td>5738</td>\n",
       "    </tr>\n",
       "    <tr>\n",
       "      <th>4</th>\n",
       "      <td>Technology</td>\n",
       "      <td>High</td>\n",
       "      <td>3104</td>\n",
       "    </tr>\n",
       "    <tr>\n",
       "      <th>5</th>\n",
       "      <td>Furniture</td>\n",
       "      <td>High</td>\n",
       "      <td>2924</td>\n",
       "    </tr>\n",
       "    <tr>\n",
       "      <th>6</th>\n",
       "      <td>Office Supplies</td>\n",
       "      <td>Critical</td>\n",
       "      <td>2447</td>\n",
       "    </tr>\n",
       "    <tr>\n",
       "      <th>7</th>\n",
       "      <td>Office Supplies</td>\n",
       "      <td>Low</td>\n",
       "      <td>1487</td>\n",
       "    </tr>\n",
       "    <tr>\n",
       "      <th>8</th>\n",
       "      <td>Technology</td>\n",
       "      <td>Critical</td>\n",
       "      <td>764</td>\n",
       "    </tr>\n",
       "    <tr>\n",
       "      <th>9</th>\n",
       "      <td>Furniture</td>\n",
       "      <td>Critical</td>\n",
       "      <td>721</td>\n",
       "    </tr>\n",
       "    <tr>\n",
       "      <th>10</th>\n",
       "      <td>Furniture</td>\n",
       "      <td>Low</td>\n",
       "      <td>477</td>\n",
       "    </tr>\n",
       "    <tr>\n",
       "      <th>11</th>\n",
       "      <td>Technology</td>\n",
       "      <td>Low</td>\n",
       "      <td>460</td>\n",
       "    </tr>\n",
       "  </tbody>\n",
       "</table>\n",
       "</div>"
      ],
      "text/plain": [
       "           Category Order Priority  count\n",
       "0   Office Supplies         Medium  17882\n",
       "1   Office Supplies           High   9473\n",
       "2        Technology         Medium   5813\n",
       "3         Furniture         Medium   5738\n",
       "4        Technology           High   3104\n",
       "5         Furniture           High   2924\n",
       "6   Office Supplies       Critical   2447\n",
       "7   Office Supplies            Low   1487\n",
       "8        Technology       Critical    764\n",
       "9         Furniture       Critical    721\n",
       "10        Furniture            Low    477\n",
       "11       Technology            Low    460"
      ]
     },
     "execution_count": 65,
     "metadata": {},
     "output_type": "execute_result"
    }
   ],
   "source": [
    "df_p=pd.DataFrame(priority).reset_index()\n",
    "df_p"
   ]
  },
  {
   "cell_type": "code",
   "execution_count": null,
   "id": "b8e4d813",
   "metadata": {},
   "outputs": [],
   "source": []
  }
 ],
 "metadata": {
  "kernelspec": {
   "display_name": "Python 3 (ipykernel)",
   "language": "python",
   "name": "python3"
  },
  "language_info": {
   "codemirror_mode": {
    "name": "ipython",
    "version": 3
   },
   "file_extension": ".py",
   "mimetype": "text/x-python",
   "name": "python",
   "nbconvert_exporter": "python",
   "pygments_lexer": "ipython3",
   "version": "3.11.5"
  },
  "varInspector": {
   "cols": {
    "lenName": 16,
    "lenType": 16,
    "lenVar": 40
   },
   "kernels_config": {
    "python": {
     "delete_cmd_postfix": "",
     "delete_cmd_prefix": "del ",
     "library": "var_list.py",
     "varRefreshCmd": "print(var_dic_list())"
    },
    "r": {
     "delete_cmd_postfix": ") ",
     "delete_cmd_prefix": "rm(",
     "library": "var_list.r",
     "varRefreshCmd": "cat(var_dic_list()) "
    }
   },
   "types_to_exclude": [
    "module",
    "function",
    "builtin_function_or_method",
    "instance",
    "_Feature"
   ],
   "window_display": false
  }
 },
 "nbformat": 4,
 "nbformat_minor": 5
}
